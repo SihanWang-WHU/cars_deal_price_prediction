{
 "cells": [
  {
   "cell_type": "markdown",
   "source": [
    "# 常见的特征工程包括:\n",
    "\n",
    "## 1.异常处理：\n",
    "- 连续性变量（改3-Sigma）分布偏斜异常值；\n",
    "- BOX-COX转换（处理偏斜分布）；\n",
    "- 长尾截断；\n",
    "\n",
    "## 2.特征归一化/标准化：\n",
    "- 标准化（特征均值正态分布）；\n",
    "- 归一化（把特征压缩到[0,1]区间）；\n",
    "- 针对稀疏数据，可以采用公式：`log( (1+x) / (1+median) )`\n",
    "\n",
    "## 3.数据分箱：\n",
    "- 等宽分箱；\n",
    "- 等频分箱；\n",
    "- Best-KS 分箱（类似利用决策树进行一分为二）；\n",
    "- 卡方分箱；\n",
    "\n",
    "## 4.缺失值处理：\n",
    "- 不处理（针对某些如XGBoost等模型）；\n",
    "- 删除（缺失数据太多）；\n",
    "- 填补值，包括均值/中位数/众数/随机抽取/多重插补/反向距离权重/推荐系统等；\n",
    "- 分箱，缺失值一个箱；\n",
    "\n",
    "## 5.特征构造：\n",
    "- 从现有特征衍生，聚合统计，求和、比例、标准差等；\n",
    "- 时间特征，包括相对时间点的统计指标，节假日，双休日等；\n",
    "- 地理信息，包括分箱，分布密度等方法；\n",
    "- 非线性变换，包括log/ 平方/ 开方等；\n",
    "- 交互组合，特征交叉；\n",
    "- 特征组合，组合选取；\n",
    "- 一些规则，智能规则。\n",
    "\n",
    "## 6.特征筛选\n",
    "- 过滤式（filter）：先对数据进行特征选择，然后在训练分类器，常见的方法有Relief/方差选择法/相关系数法/卡方检验/信息增益；\n",
    "- 包装式（wrapper）：直接把最终将要使用的学习器的性能作为特征子集的评价准则，常见方法有LVM（Las Vegas Wrapper）；\n",
    "- 嵌入式（embedding）：结合过滤式和包装式，学习器训练过程中自动进行特征选择，常见的有lasso 回归；\n",
    "\n",
    "## 7.降维\n",
    "- PCA/ LDA/ ICA；\n",
    "- 特征选择也是一种降维。\n"
   ],
   "metadata": {
    "collapsed": false
   },
   "id": "434dc6568e5e05f7"
  },
  {
   "cell_type": "code",
   "execution_count": 1,
   "outputs": [],
   "source": [
    "import pandas as pd\n",
    "import numpy as np\n",
    "import matplotlib\n",
    "import matplotlib.pyplot as plt\n",
    "import seaborn as sns\n",
    "from operator import itemgetter\n",
    "\n",
    "%matplotlib inline"
   ],
   "metadata": {
    "collapsed": false,
    "ExecuteTime": {
     "start_time": "2023-11-23T06:48:53.599666500Z"
    }
   },
   "id": "initial_id"
  },
  {
   "cell_type": "code",
   "execution_count": 2,
   "outputs": [
    {
     "name": "stdout",
     "output_type": "stream",
     "text": [
      "(150000, 31)\n",
      "(50000, 30)\n"
     ]
    }
   ],
   "source": [
    "path = './data/'\n",
    "## 1) 载入训练集和测试集；\n",
    "train = pd.read_csv(path+'used_car_train_20200313.csv', sep=' ')\n",
    "test = pd.read_csv(path+'used_car_testB_20200421.csv', sep=' ')\n",
    "print(train.shape)\n",
    "print(test.shape)"
   ],
   "metadata": {
    "collapsed": false,
    "ExecuteTime": {
     "start_time": "2023-11-23T06:49:44.564711200Z"
    }
   },
   "id": "d11277f311994fcc"
  },
  {
   "cell_type": "code",
   "execution_count": null,
   "outputs": [],
   "source": [],
   "metadata": {
    "collapsed": false
   },
   "id": "dfa056cd1ec805e2"
  }
 ],
 "metadata": {
  "kernelspec": {
   "display_name": "Python 3",
   "language": "python",
   "name": "python3"
  },
  "language_info": {
   "codemirror_mode": {
    "name": "ipython",
    "version": 2
   },
   "file_extension": ".py",
   "mimetype": "text/x-python",
   "name": "python",
   "nbconvert_exporter": "python",
   "pygments_lexer": "ipython2",
   "version": "2.7.6"
  }
 },
 "nbformat": 4,
 "nbformat_minor": 5
}
