{
 "cells": [
  {
   "cell_type": "code",
   "execution_count": 1,
   "id": "initial_id",
   "metadata": {
    "collapsed": true,
    "ExecuteTime": {
     "end_time": "2023-11-28T04:39:28.941863600Z",
     "start_time": "2023-11-28T04:39:28.924864700Z"
    }
   },
   "outputs": [],
   "source": [
    "import pandas as pd\n",
    "import numpy as np\n",
    "import warnings\n",
    "warnings.filterwarnings('ignore')"
   ]
  },
  {
   "cell_type": "code",
   "execution_count": 2,
   "outputs": [],
   "source": [
    "def reduce_mem_usage(df):\n",
    "    \"\"\" iterate through all the columns of a dataframe and modify the data type\n",
    "        to reduce memory usage.        \n",
    "    \"\"\"\n",
    "    start_mem = df.memory_usage().sum() \n",
    "    print('Memory usage of dataframe is {:.2f} B'.format(start_mem))\n",
    "    \n",
    "    for col in df.columns:\n",
    "        col_type = df[col].dtype\n",
    "        \n",
    "        if col_type != object:\n",
    "            c_min = df[col].min()\n",
    "            c_max = df[col].max()\n",
    "            if str(col_type)[:3] == 'int':\n",
    "                if c_min > np.iinfo(np.int8).min and c_max < np.iinfo(np.int8).max:\n",
    "                    df[col] = df[col].astype(np.int8)\n",
    "                elif c_min > np.iinfo(np.int16).min and c_max < np.iinfo(np.int16).max:\n",
    "                    df[col] = df[col].astype(np.int16)\n",
    "                elif c_min > np.iinfo(np.int32).min and c_max < np.iinfo(np.int32).max:\n",
    "                    df[col] = df[col].astype(np.int32)\n",
    "                elif c_min > np.iinfo(np.int64).min and c_max < np.iinfo(np.int64).max:\n",
    "                    df[col] = df[col].astype(np.int64)  \n",
    "            else:\n",
    "                if c_min > np.finfo(np.float16).min and c_max < np.finfo(np.float16).max:\n",
    "                    df[col] = df[col].astype(np.float16)\n",
    "                elif c_min > np.finfo(np.float32).min and c_max < np.finfo(np.float32).max:\n",
    "                    df[col] = df[col].astype(np.float32)\n",
    "                else:\n",
    "                    df[col] = df[col].astype(np.float64)\n",
    "        else:\n",
    "            df[col] = df[col].astype('category')\n",
    "\n",
    "    end_mem = df.memory_usage().sum() \n",
    "    print('Memory usage after optimization is: {:.2f} B'.format(end_mem))\n",
    "    print('Decreased by {:.1f}%'.format(100 * (start_mem - end_mem) / start_mem))\n",
    "    return df"
   ],
   "metadata": {
    "collapsed": false,
    "ExecuteTime": {
     "end_time": "2023-11-28T04:39:29.000865Z",
     "start_time": "2023-11-28T04:39:28.950867600Z"
    }
   },
   "id": "3437065314e8f0f6"
  },
  {
   "cell_type": "code",
   "execution_count": 3,
   "outputs": [
    {
     "name": "stdout",
     "output_type": "stream",
     "text": [
      "Memory usage of dataframe is 62099672.00 B\n",
      "Memory usage after optimization is: 16520331.00 B\n",
      "Decreased by 73.4%\n"
     ]
    },
    {
     "data": {
      "text/plain": "    SaleID    name  model  brand  bodyType  fuelType  gearbox  power  \\\n0        0     736   30.0      6       1.0       0.0      0.0     60   \n1        1    2262   40.0      1       2.0       0.0      0.0      0   \n2        2   14874  115.0     15       1.0       0.0      0.0    163   \n3        3   71865  109.0     10       0.0       0.0      1.0    193   \n4        4  111080  110.0      5       1.0       0.0      0.0     68   \n..     ...     ...    ...    ...       ...       ...      ...    ...   \n95      96  159109    4.0      4       0.0       0.0      1.0    150   \n96      97  129992   11.0     10       0.0       0.0      1.0    125   \n97      98   31752    1.0      1       2.0       NaN      1.0      0   \n98      99  102460   17.0     10       2.0       0.0      1.0    136   \n99     100    3629   78.0      7       2.0       1.0      0.0    136   \n\n    kilometer notRepairedDamage  ...  used_time  city  brand_amount  \\\n0        12.5               0.0  ...     4384.0   1.0       10192.0   \n1        15.0                 -  ...     4756.0   4.0       13656.0   \n2        12.5               0.0  ...     4384.0   2.0        1458.0   \n3        15.0               0.0  ...     7124.0   NaN       13992.0   \n4         5.0               0.0  ...     1531.0   6.0        4664.0   \n..        ...               ...  ...        ...   ...           ...   \n95       12.5               0.0  ...     4030.0   NaN       16576.0   \n96       10.0               0.0  ...     4908.0   NaN       13992.0   \n97       15.0               0.0  ...        NaN   6.0       13656.0   \n98       15.0               0.0  ...     8044.0   7.0       13992.0   \n99       15.0               1.0  ...     4388.0   2.0        2360.0   \n\n    brand_price_max  brand_price_median  brand_price_min  brand_price_sum  \\\n0           35990.0              1800.0             13.0       36457520.0   \n1           84000.0              6400.0             15.0      124044600.0   \n2           45000.0              8496.0            100.0       14373814.0   \n3           92900.0              5200.0             15.0      113034208.0   \n4           31500.0              2300.0             20.0       15414322.0   \n..              ...                 ...              ...              ...   \n95          99999.0              6000.0             12.0      138279072.0   \n96          92900.0              5200.0             15.0      113034208.0   \n97          84000.0              6400.0             15.0      124044600.0   \n98          92900.0              5200.0             15.0      113034208.0   \n99          38900.0              2600.0             60.0        9905909.0   \n\n    brand_price_std  brand_price_average  power_bin  \n0            4564.0               3576.0        5.0  \n1            8992.0               9080.0        NaN  \n2            5424.0               9848.0       16.0  \n3            8248.0               8076.0       19.0  \n4            3344.0               3306.0        6.0  \n..              ...                  ...        ...  \n95           8088.0               8344.0       14.0  \n96           8248.0               8076.0       12.0  \n97           8992.0               9080.0        NaN  \n98           8248.0               8076.0       13.0  \n99           4752.0               4196.0       13.0  \n\n[100 rows x 39 columns]",
      "text/html": "<div>\n<style scoped>\n    .dataframe tbody tr th:only-of-type {\n        vertical-align: middle;\n    }\n\n    .dataframe tbody tr th {\n        vertical-align: top;\n    }\n\n    .dataframe thead th {\n        text-align: right;\n    }\n</style>\n<table border=\"1\" class=\"dataframe\">\n  <thead>\n    <tr style=\"text-align: right;\">\n      <th></th>\n      <th>SaleID</th>\n      <th>name</th>\n      <th>model</th>\n      <th>brand</th>\n      <th>bodyType</th>\n      <th>fuelType</th>\n      <th>gearbox</th>\n      <th>power</th>\n      <th>kilometer</th>\n      <th>notRepairedDamage</th>\n      <th>...</th>\n      <th>used_time</th>\n      <th>city</th>\n      <th>brand_amount</th>\n      <th>brand_price_max</th>\n      <th>brand_price_median</th>\n      <th>brand_price_min</th>\n      <th>brand_price_sum</th>\n      <th>brand_price_std</th>\n      <th>brand_price_average</th>\n      <th>power_bin</th>\n    </tr>\n  </thead>\n  <tbody>\n    <tr>\n      <th>0</th>\n      <td>0</td>\n      <td>736</td>\n      <td>30.0</td>\n      <td>6</td>\n      <td>1.0</td>\n      <td>0.0</td>\n      <td>0.0</td>\n      <td>60</td>\n      <td>12.5</td>\n      <td>0.0</td>\n      <td>...</td>\n      <td>4384.0</td>\n      <td>1.0</td>\n      <td>10192.0</td>\n      <td>35990.0</td>\n      <td>1800.0</td>\n      <td>13.0</td>\n      <td>36457520.0</td>\n      <td>4564.0</td>\n      <td>3576.0</td>\n      <td>5.0</td>\n    </tr>\n    <tr>\n      <th>1</th>\n      <td>1</td>\n      <td>2262</td>\n      <td>40.0</td>\n      <td>1</td>\n      <td>2.0</td>\n      <td>0.0</td>\n      <td>0.0</td>\n      <td>0</td>\n      <td>15.0</td>\n      <td>-</td>\n      <td>...</td>\n      <td>4756.0</td>\n      <td>4.0</td>\n      <td>13656.0</td>\n      <td>84000.0</td>\n      <td>6400.0</td>\n      <td>15.0</td>\n      <td>124044600.0</td>\n      <td>8992.0</td>\n      <td>9080.0</td>\n      <td>NaN</td>\n    </tr>\n    <tr>\n      <th>2</th>\n      <td>2</td>\n      <td>14874</td>\n      <td>115.0</td>\n      <td>15</td>\n      <td>1.0</td>\n      <td>0.0</td>\n      <td>0.0</td>\n      <td>163</td>\n      <td>12.5</td>\n      <td>0.0</td>\n      <td>...</td>\n      <td>4384.0</td>\n      <td>2.0</td>\n      <td>1458.0</td>\n      <td>45000.0</td>\n      <td>8496.0</td>\n      <td>100.0</td>\n      <td>14373814.0</td>\n      <td>5424.0</td>\n      <td>9848.0</td>\n      <td>16.0</td>\n    </tr>\n    <tr>\n      <th>3</th>\n      <td>3</td>\n      <td>71865</td>\n      <td>109.0</td>\n      <td>10</td>\n      <td>0.0</td>\n      <td>0.0</td>\n      <td>1.0</td>\n      <td>193</td>\n      <td>15.0</td>\n      <td>0.0</td>\n      <td>...</td>\n      <td>7124.0</td>\n      <td>NaN</td>\n      <td>13992.0</td>\n      <td>92900.0</td>\n      <td>5200.0</td>\n      <td>15.0</td>\n      <td>113034208.0</td>\n      <td>8248.0</td>\n      <td>8076.0</td>\n      <td>19.0</td>\n    </tr>\n    <tr>\n      <th>4</th>\n      <td>4</td>\n      <td>111080</td>\n      <td>110.0</td>\n      <td>5</td>\n      <td>1.0</td>\n      <td>0.0</td>\n      <td>0.0</td>\n      <td>68</td>\n      <td>5.0</td>\n      <td>0.0</td>\n      <td>...</td>\n      <td>1531.0</td>\n      <td>6.0</td>\n      <td>4664.0</td>\n      <td>31500.0</td>\n      <td>2300.0</td>\n      <td>20.0</td>\n      <td>15414322.0</td>\n      <td>3344.0</td>\n      <td>3306.0</td>\n      <td>6.0</td>\n    </tr>\n    <tr>\n      <th>...</th>\n      <td>...</td>\n      <td>...</td>\n      <td>...</td>\n      <td>...</td>\n      <td>...</td>\n      <td>...</td>\n      <td>...</td>\n      <td>...</td>\n      <td>...</td>\n      <td>...</td>\n      <td>...</td>\n      <td>...</td>\n      <td>...</td>\n      <td>...</td>\n      <td>...</td>\n      <td>...</td>\n      <td>...</td>\n      <td>...</td>\n      <td>...</td>\n      <td>...</td>\n      <td>...</td>\n    </tr>\n    <tr>\n      <th>95</th>\n      <td>96</td>\n      <td>159109</td>\n      <td>4.0</td>\n      <td>4</td>\n      <td>0.0</td>\n      <td>0.0</td>\n      <td>1.0</td>\n      <td>150</td>\n      <td>12.5</td>\n      <td>0.0</td>\n      <td>...</td>\n      <td>4030.0</td>\n      <td>NaN</td>\n      <td>16576.0</td>\n      <td>99999.0</td>\n      <td>6000.0</td>\n      <td>12.0</td>\n      <td>138279072.0</td>\n      <td>8088.0</td>\n      <td>8344.0</td>\n      <td>14.0</td>\n    </tr>\n    <tr>\n      <th>96</th>\n      <td>97</td>\n      <td>129992</td>\n      <td>11.0</td>\n      <td>10</td>\n      <td>0.0</td>\n      <td>0.0</td>\n      <td>1.0</td>\n      <td>125</td>\n      <td>10.0</td>\n      <td>0.0</td>\n      <td>...</td>\n      <td>4908.0</td>\n      <td>NaN</td>\n      <td>13992.0</td>\n      <td>92900.0</td>\n      <td>5200.0</td>\n      <td>15.0</td>\n      <td>113034208.0</td>\n      <td>8248.0</td>\n      <td>8076.0</td>\n      <td>12.0</td>\n    </tr>\n    <tr>\n      <th>97</th>\n      <td>98</td>\n      <td>31752</td>\n      <td>1.0</td>\n      <td>1</td>\n      <td>2.0</td>\n      <td>NaN</td>\n      <td>1.0</td>\n      <td>0</td>\n      <td>15.0</td>\n      <td>0.0</td>\n      <td>...</td>\n      <td>NaN</td>\n      <td>6.0</td>\n      <td>13656.0</td>\n      <td>84000.0</td>\n      <td>6400.0</td>\n      <td>15.0</td>\n      <td>124044600.0</td>\n      <td>8992.0</td>\n      <td>9080.0</td>\n      <td>NaN</td>\n    </tr>\n    <tr>\n      <th>98</th>\n      <td>99</td>\n      <td>102460</td>\n      <td>17.0</td>\n      <td>10</td>\n      <td>2.0</td>\n      <td>0.0</td>\n      <td>1.0</td>\n      <td>136</td>\n      <td>15.0</td>\n      <td>0.0</td>\n      <td>...</td>\n      <td>8044.0</td>\n      <td>7.0</td>\n      <td>13992.0</td>\n      <td>92900.0</td>\n      <td>5200.0</td>\n      <td>15.0</td>\n      <td>113034208.0</td>\n      <td>8248.0</td>\n      <td>8076.0</td>\n      <td>13.0</td>\n    </tr>\n    <tr>\n      <th>99</th>\n      <td>100</td>\n      <td>3629</td>\n      <td>78.0</td>\n      <td>7</td>\n      <td>2.0</td>\n      <td>1.0</td>\n      <td>0.0</td>\n      <td>136</td>\n      <td>15.0</td>\n      <td>1.0</td>\n      <td>...</td>\n      <td>4388.0</td>\n      <td>2.0</td>\n      <td>2360.0</td>\n      <td>38900.0</td>\n      <td>2600.0</td>\n      <td>60.0</td>\n      <td>9905909.0</td>\n      <td>4752.0</td>\n      <td>4196.0</td>\n      <td>13.0</td>\n    </tr>\n  </tbody>\n</table>\n<p>100 rows × 39 columns</p>\n</div>"
     },
     "execution_count": 3,
     "metadata": {},
     "output_type": "execute_result"
    }
   ],
   "source": [
    "sample_feature = reduce_mem_usage(pd.read_csv('./data_for_tree.csv'))\n",
    "sample_feature.head(100)"
   ],
   "metadata": {
    "collapsed": false,
    "ExecuteTime": {
     "end_time": "2023-11-28T04:39:31.450900700Z",
     "start_time": "2023-11-28T04:39:28.971865300Z"
    }
   },
   "id": "1f9ca982b9826cf8"
  },
  {
   "cell_type": "code",
   "execution_count": 5,
   "outputs": [
    {
     "data": {
      "text/plain": "['SaleID',\n 'name',\n 'bodyType',\n 'fuelType',\n 'gearbox',\n 'power',\n 'kilometer',\n 'notRepairedDamage',\n 'seller',\n 'offerType',\n 'v_0',\n 'v_1',\n 'v_2',\n 'v_3',\n 'v_4',\n 'v_5',\n 'v_6',\n 'v_7',\n 'v_8',\n 'v_9',\n 'v_10',\n 'v_11',\n 'v_12',\n 'v_13',\n 'v_14',\n 'train',\n 'used_time',\n 'city',\n 'brand_amount',\n 'brand_price_max',\n 'brand_price_median',\n 'brand_price_min',\n 'brand_price_sum',\n 'brand_price_std',\n 'brand_price_average',\n 'power_bin']"
     },
     "execution_count": 5,
     "metadata": {},
     "output_type": "execute_result"
    }
   ],
   "source": [
    "continuous_feature_names = [x for x in sample_feature.columns if x not in ['price','brand','model']]\n",
    "continuous_feature_names"
   ],
   "metadata": {
    "collapsed": false,
    "ExecuteTime": {
     "end_time": "2023-11-28T04:40:18.414951900Z",
     "start_time": "2023-11-28T04:40:18.320951100Z"
    }
   },
   "id": "40fb649c293c371e"
  },
  {
   "cell_type": "markdown",
   "source": [
    "##  线性回归 & 五折交叉验证 & 模拟真实业务情况"
   ],
   "metadata": {
    "collapsed": false
   },
   "id": "b3958384495e6d41"
  },
  {
   "cell_type": "code",
   "execution_count": 105,
   "outputs": [],
   "source": [
    "sample_feature = sample_feature.dropna().replace('-', 0).reset_index(drop=True)\n",
    "sample_feature['notRepairedDamage'] = sample_feature['notRepairedDamage'].astype(np.float32)\n",
    "train = sample_feature[continuous_feature_names + ['price']]\n",
    "\n",
    "train_X = train[continuous_feature_names]\n",
    "train_y = train['price']"
   ],
   "metadata": {
    "collapsed": false,
    "ExecuteTime": {
     "end_time": "2023-11-27T07:10:35.992392500Z",
     "start_time": "2023-11-27T07:10:35.779396Z"
    }
   },
   "id": "24a6631355c0e91a"
  },
  {
   "cell_type": "markdown",
   "source": [
    "## 1 简单建模"
   ],
   "metadata": {
    "collapsed": false
   },
   "id": "9f1a595d72f76c70"
  },
  {
   "cell_type": "code",
   "execution_count": 106,
   "outputs": [],
   "source": [
    "from sklearn.linear_model import LinearRegression"
   ],
   "metadata": {
    "collapsed": false,
    "ExecuteTime": {
     "end_time": "2023-11-27T07:10:35.992392500Z",
     "start_time": "2023-11-27T07:10:35.886391600Z"
    }
   },
   "id": "c35a218d41387f1a"
  },
  {
   "cell_type": "code",
   "execution_count": 107,
   "outputs": [],
   "source": [
    "model = LinearRegression(normalize=True)"
   ],
   "metadata": {
    "collapsed": false,
    "ExecuteTime": {
     "end_time": "2023-11-27T07:10:35.993393400Z",
     "start_time": "2023-11-27T07:10:35.902395300Z"
    }
   },
   "id": "c4e167e90db209b4"
  },
  {
   "cell_type": "code",
   "execution_count": 108,
   "outputs": [],
   "source": [
    "model = model.fit(train_X, train_y)"
   ],
   "metadata": {
    "collapsed": false,
    "ExecuteTime": {
     "end_time": "2023-11-27T07:10:36.088398400Z",
     "start_time": "2023-11-27T07:10:35.919392Z"
    }
   },
   "id": "24d45f424434f38"
  },
  {
   "cell_type": "markdown",
   "source": [
    "查看训练的线性回归模型的截距（intercept）与权重(coef)"
   ],
   "metadata": {
    "collapsed": false
   },
   "id": "2284bf1efd909ed5"
  },
  {
   "cell_type": "code",
   "execution_count": 109,
   "outputs": [
    {
     "data": {
      "text/plain": "[('v_6', 3367064.3416418517),\n ('v_8', 700675.5609398601),\n ('v_9', 170630.27723220916),\n ('v_7', 32322.661932017618),\n ('v_12', 20473.670796992676),\n ('v_3', 17868.079541511983),\n ('v_11', 11474.938996733352),\n ('v_13', 11261.76456001996),\n ('v_10', 2683.9200905861935),\n ('gearbox', 881.8225039248066),\n ('fuelType', 363.90425072160497),\n ('bodyType', 189.60271012071303),\n ('city', 44.94975120522546),\n ('power', 28.553901616752746),\n ('brand_price_median', 0.5103728134078933),\n ('brand_price_std', 0.45036347092633666),\n ('brand_amount', 0.1488112039506541),\n ('brand_price_max', 0.003191018670312297),\n ('SaleID', 5.355989919860597e-05),\n ('seller', 1.1693628039211035e-06),\n ('train', 1.4156103134155273e-07),\n ('offerType', -1.7627025954425335e-06),\n ('brand_price_sum', -2.175006868187533e-05),\n ('name', -0.0002980012713108422),\n ('used_time', -0.002515894332864041),\n ('brand_price_average', -0.40490484510117003),\n ('brand_price_min', -2.2467753486897615),\n ('power_bin', -34.4206441172822),\n ('v_14', -274.7841180778524),\n ('kilometer', -372.8975266607159),\n ('notRepairedDamage', -495.19038446280587),\n ('v_0', -2045.054957355589),\n ('v_5', -11022.986240583137),\n ('v_4', -15121.731109860373),\n ('v_2', -26098.29992056442),\n ('v_1', -45556.189297290046)]"
     },
     "execution_count": 109,
     "metadata": {},
     "output_type": "execute_result"
    }
   ],
   "source": [
    "'intercept:'+ str(model.intercept_)\n",
    "\n",
    "sorted(dict(zip(continuous_feature_names, model.coef_)).items(), key=lambda x:x[1], reverse=True)"
   ],
   "metadata": {
    "collapsed": false,
    "ExecuteTime": {
     "end_time": "2023-11-27T07:10:36.104658800Z",
     "start_time": "2023-11-27T07:10:36.076391200Z"
    }
   },
   "id": "ffd7427b7a920d7c"
  },
  {
   "cell_type": "code",
   "execution_count": 110,
   "outputs": [],
   "source": [
    "from matplotlib import pyplot as plt"
   ],
   "metadata": {
    "collapsed": false,
    "ExecuteTime": {
     "end_time": "2023-11-27T07:10:36.119655700Z",
     "start_time": "2023-11-27T07:10:36.093094900Z"
    }
   },
   "id": "8f3ff0e57bc2e359"
  },
  {
   "cell_type": "code",
   "execution_count": 111,
   "outputs": [
    {
     "data": {
      "text/plain": "array([20890, 83947, 19120, 57633, 63234, 46896, 35223, 28014, 55794,\n       31607, 70173, 39643, 81492, 63681, 70153, 22641, 33578, 78903,\n       38585, 28687, 20383, 90648, 88026, 63208, 13197, 22578, 66805,\n       75269, 74891,  3012, 12073, 63129, 39953, 11084, 39459, 77998,\n       70039, 41962, 10930, 27286, 55430, 12238, 81185, 31196, 36506,\n       77056, 30234, 82443, 51437, 74210])"
     },
     "execution_count": 111,
     "metadata": {},
     "output_type": "execute_result"
    }
   ],
   "source": [
    "subsample_index = np.random.randint(low=0, high=len(train_y), size=50)\n",
    "subsample_index"
   ],
   "metadata": {
    "collapsed": false,
    "ExecuteTime": {
     "end_time": "2023-11-27T07:10:36.182659200Z",
     "start_time": "2023-11-27T07:10:36.106657400Z"
    }
   },
   "id": "80e8eae29216a308"
  },
  {
   "cell_type": "markdown",
   "source": [
    "绘制特征v_9的值与标签的散点图，图片发现模型的预测结果（蓝色点）与真实标签（黑色点）的分布差异较大，且部分预测值出现了小于0的情况，说明我们的模型存在一些问题"
   ],
   "metadata": {
    "collapsed": false
   },
   "id": "635d5dd15e04c6a4"
  },
  {
   "cell_type": "code",
   "execution_count": 112,
   "outputs": [
    {
     "name": "stdout",
     "output_type": "stream",
     "text": [
      "The predicted price is obvious different from true price\n"
     ]
    },
    {
     "data": {
      "text/plain": "<Figure size 432x288 with 1 Axes>",
      "image/png": "[encoded data removed]"
     },
     "metadata": {},
     "output_type": "display_data"
    }
   ],
   "source": [
    "plt.scatter(train_X['v_9'][subsample_index], train_y[subsample_index], color='black')\n",
    "plt.scatter(train_X['v_9'][subsample_index], model.predict(train_X.loc[subsample_index]), color='blue')\n",
    "plt.xlabel('v_9')\n",
    "plt.ylabel('price')\n",
    "plt.legend(['True Price','Predicted Price'],loc='upper right')\n",
    "print('The predicted price is obvious different from true price')\n",
    "plt.show()"
   ],
   "metadata": {
    "collapsed": false,
    "ExecuteTime": {
     "end_time": "2023-11-27T07:10:36.312659Z",
     "start_time": "2023-11-27T07:10:36.125657800Z"
    }
   },
   "id": "8851f22bae0d0f8c"
  },
  {
   "cell_type": "markdown",
   "source": [
    "通过作图我们发现数据的标签（price）呈现长尾分布，不利于我们的建模预测。原因是很多模型都假设数据误差项符合正态分布，而长尾分布的数据违背了这一假设。"
   ],
   "metadata": {
    "collapsed": false
   },
   "id": "c2a1aa356345a021"
  },
  {
   "cell_type": "code",
   "execution_count": 113,
   "outputs": [
    {
     "name": "stdout",
     "output_type": "stream",
     "text": [
      "It is clear to see the price shows a typical exponential distribution\n"
     ]
    },
    {
     "data": {
      "text/plain": "<AxesSubplot:xlabel='price', ylabel='Density'>"
     },
     "execution_count": 113,
     "metadata": {},
     "output_type": "execute_result"
    },
    {
     "data": {
      "text/plain": "<Figure size 1080x360 with 2 Axes>",
      "image/png": "[encoded data removed]"
     },
     "metadata": {},
     "output_type": "display_data"
    }
   ],
   "source": [
    "import seaborn as sns\n",
    "print('It is clear to see the price shows a typical exponential distribution')\n",
    "plt.figure(figsize=(15,5))\n",
    "plt.subplot(1,2,1)\n",
    "sns.distplot(train_y)\n",
    "plt.subplot(1,2,2)\n",
    "sns.distplot(train_y[train_y < np.quantile(train_y, 0.9)])"
   ],
   "metadata": {
    "collapsed": false,
    "ExecuteTime": {
     "end_time": "2023-11-27T07:10:38.273912Z",
     "start_time": "2023-11-27T07:10:36.317658200Z"
    }
   },
   "id": "17f50100cbab365c"
  },
  {
   "cell_type": "markdown",
   "source": [
    "##### 对标签进行了  log(x+1)变换，使标签贴近于正态分布"
   ],
   "metadata": {
    "collapsed": false
   },
   "id": "d7347c49bc1d0ab0"
  },
  {
   "cell_type": "code",
   "execution_count": 114,
   "outputs": [],
   "source": [
    "train_y_ln = np.log(train_y + 1)"
   ],
   "metadata": {
    "collapsed": false,
    "ExecuteTime": {
     "end_time": "2023-11-27T07:10:38.348171700Z",
     "start_time": "2023-11-27T07:10:38.271914100Z"
    }
   },
   "id": "7e8757cd111c0ae1"
  },
  {
   "cell_type": "code",
   "execution_count": 115,
   "outputs": [
    {
     "name": "stdout",
     "output_type": "stream",
     "text": [
      "The transformed price seems like normal distribution\n"
     ]
    },
    {
     "data": {
      "text/plain": "<AxesSubplot:xlabel='price', ylabel='Density'>"
     },
     "execution_count": 115,
     "metadata": {},
     "output_type": "execute_result"
    },
    {
     "data": {
      "text/plain": "<Figure size 1080x360 with 2 Axes>",
      "image/png": "[encoded data removed]"
     },
     "metadata": {},
     "output_type": "display_data"
    }
   ],
   "source": [
    "import seaborn as sns\n",
    "print('The transformed price seems like normal distribution')\n",
    "plt.figure(figsize=(15,5))\n",
    "plt.subplot(1,2,1)\n",
    "sns.distplot(train_y_ln)\n",
    "plt.subplot(1,2,2)\n",
    "sns.distplot(train_y_ln[train_y_ln < np.quantile(train_y_ln, 0.9)])"
   ],
   "metadata": {
    "collapsed": false,
    "ExecuteTime": {
     "end_time": "2023-11-27T07:10:39.504328200Z",
     "start_time": "2023-11-27T07:10:38.293172400Z"
    }
   },
   "id": "fb819da85ecc184c"
  },
  {
   "cell_type": "markdown",
   "source": [
    "再次进行可视化，发现预测结果与真实值较为接近，且未出现异常状况"
   ],
   "metadata": {
    "collapsed": false
   },
   "id": "78a6c966f5c512e9"
  },
  {
   "cell_type": "code",
   "execution_count": 116,
   "outputs": [
    {
     "name": "stdout",
     "output_type": "stream",
     "text": [
      "intercept:18.750748443060576\n"
     ]
    },
    {
     "data": {
      "text/plain": "[('v_9', 8.052410408820782),\n ('v_5', 5.7642407803967455),\n ('v_12', 1.6182060982411401),\n ('v_1', 1.479831064542148),\n ('v_11', 1.1669004173609911),\n ('v_13', 0.9404706327191015),\n ('v_7', 0.7137281645203212),\n ('v_3', 0.6837863827342633),\n ('v_0', 0.008500505209783063),\n ('power_bin', 0.008497968353526683),\n ('gearbox', 0.007922378343287479),\n ('fuelType', 0.006684768936308926),\n ('bodyType', 0.004523520651792115),\n ('power', 0.0007161895389362842),\n ('brand_price_min', 3.334354528990976e-05),\n ('brand_amount', 2.8978802894926596e-06),\n ('brand_price_median', 1.257118777102827e-06),\n ('brand_price_std', 6.659170007153928e-07),\n ('brand_price_max', 6.194957302458369e-07),\n ('brand_price_average', 5.999348706717425e-07),\n ('SaleID', 2.1194159119228813e-08),\n ('seller', 1.674571592502616e-11),\n ('offerType', 1.0393463867330865e-11),\n ('train', 6.195932655828074e-12),\n ('brand_price_sum', -1.512651424568793e-10),\n ('name', -7.015511195835198e-08),\n ('used_time', -4.12247701627119e-06),\n ('city', -0.00221878370961546),\n ('v_14', -0.004234189820650206),\n ('kilometer', -0.013835867353557314),\n ('notRepairedDamage', -0.2702794248039404),\n ('v_4', -0.8315697362909356),\n ('v_2', -0.9470821267766201),\n ('v_10', -1.6261468392068834),\n ('v_8', -40.34300817115205),\n ('v_6', -238.7903549731875)]"
     },
     "execution_count": 116,
     "metadata": {},
     "output_type": "execute_result"
    }
   ],
   "source": [
    "model = model.fit(train_X, train_y_ln)\n",
    "\n",
    "print('intercept:'+ str(model.intercept_))\n",
    "sorted(dict(zip(continuous_feature_names, model.coef_)).items(), key=lambda x:x[1], reverse=True)"
   ],
   "metadata": {
    "collapsed": false,
    "ExecuteTime": {
     "end_time": "2023-11-27T07:10:39.648338400Z",
     "start_time": "2023-11-27T07:10:39.502329700Z"
    }
   },
   "id": "66f9155a175ecc89"
  },
  {
   "cell_type": "code",
   "execution_count": 117,
   "outputs": [
    {
     "name": "stdout",
     "output_type": "stream",
     "text": [
      "The predicted price seems normal after np.log transforming\n"
     ]
    },
    {
     "data": {
      "text/plain": "<Figure size 432x288 with 1 Axes>",
      "image/png": "[encoded data removed]"
     },
     "metadata": {},
     "output_type": "display_data"
    }
   ],
   "source": [
    "plt.scatter(train_X['v_9'][subsample_index], train_y[subsample_index], color='black')\n",
    "plt.scatter(train_X['v_9'][subsample_index], np.exp(model.predict(train_X.loc[subsample_index])), color='blue')\n",
    "plt.xlabel('v_9')\n",
    "plt.ylabel('price')\n",
    "plt.legend(['True Price','Predicted Price'],loc='upper right')\n",
    "print('The predicted price seems normal after np.log transforming')\n",
    "plt.show()"
   ],
   "metadata": {
    "collapsed": false,
    "ExecuteTime": {
     "end_time": "2023-11-27T07:10:39.830339300Z",
     "start_time": "2023-11-27T07:10:39.645339900Z"
    }
   },
   "id": "461a52c06bb3f08a"
  },
  {
   "cell_type": "markdown",
   "source": [
    "## 2 五折交叉验证"
   ],
   "metadata": {
    "collapsed": false
   },
   "id": "982dba1517ab31a1"
  },
  {
   "cell_type": "code",
   "execution_count": 118,
   "outputs": [],
   "source": [
    "from sklearn.model_selection import cross_val_score\n",
    "from sklearn.metrics import mean_absolute_error,  make_scorer"
   ],
   "metadata": {
    "collapsed": false,
    "ExecuteTime": {
     "end_time": "2023-11-27T07:10:39.846207500Z",
     "start_time": "2023-11-27T07:10:39.832339500Z"
    }
   },
   "id": "d77a7ac56dc48d7e"
  },
  {
   "cell_type": "code",
   "execution_count": 119,
   "outputs": [],
   "source": [
    "def log_transfer(func):\n",
    "    def wrapper(y, yhat):\n",
    "        result = func(np.log(y), np.nan_to_num(np.log(yhat)))\n",
    "        return result\n",
    "    return wrapper"
   ],
   "metadata": {
    "collapsed": false,
    "ExecuteTime": {
     "end_time": "2023-11-27T07:10:39.922301900Z",
     "start_time": "2023-11-27T07:10:39.847206700Z"
    }
   },
   "id": "fd3e3123a82147e1"
  },
  {
   "cell_type": "markdown",
   "source": [
    "使用线性回归模型，对未处理标签的特征数据进行五折交叉验证（Error 1.36）"
   ],
   "metadata": {
    "collapsed": false
   },
   "id": "4ba9328aaa32cd27"
  },
  {
   "cell_type": "code",
   "execution_count": 120,
   "outputs": [
    {
     "name": "stderr",
     "output_type": "stream",
     "text": [
      "[Parallel(n_jobs=1)]: Using backend SequentialBackend with 1 concurrent workers.\n",
      "[Parallel(n_jobs=1)]: Done   5 out of   5 | elapsed:    0.5s finished\n"
     ]
    }
   ],
   "source": [
    "scores = cross_val_score(model, X=train_X, y=train_y, verbose=1, cv = 5, scoring=make_scorer(log_transfer(mean_absolute_error)))"
   ],
   "metadata": {
    "collapsed": false,
    "ExecuteTime": {
     "end_time": "2023-11-27T07:10:40.494066900Z",
     "start_time": "2023-11-27T07:10:39.863305200Z"
    }
   },
   "id": "8c573c2bb19918f2"
  },
  {
   "cell_type": "code",
   "execution_count": 121,
   "outputs": [
    {
     "name": "stdout",
     "output_type": "stream",
     "text": [
      "AVG: 1.3658024027749325\n"
     ]
    }
   ],
   "source": [
    "print('AVG:', np.mean(scores))"
   ],
   "metadata": {
    "collapsed": false,
    "ExecuteTime": {
     "end_time": "2023-11-27T07:10:40.555066100Z",
     "start_time": "2023-11-27T07:10:40.494066900Z"
    }
   },
   "id": "d1e593b9ebbd08ae"
  },
  {
   "cell_type": "markdown",
   "source": [
    "使用线性回归模型，对处理过标签的特征数据进行五折交叉验证（Error 0.19）"
   ],
   "metadata": {
    "collapsed": false
   },
   "id": "1f0b3087068b82b5"
  },
  {
   "cell_type": "code",
   "execution_count": 122,
   "outputs": [
    {
     "name": "stderr",
     "output_type": "stream",
     "text": [
      "[Parallel(n_jobs=1)]: Using backend SequentialBackend with 1 concurrent workers.\n",
      "[Parallel(n_jobs=1)]: Done   5 out of   5 | elapsed:    0.6s finished\n"
     ]
    }
   ],
   "source": [
    "scores = cross_val_score(model, X=train_X, y=train_y_ln, verbose=1, cv = 5, scoring=make_scorer(mean_absolute_error))"
   ],
   "metadata": {
    "collapsed": false,
    "ExecuteTime": {
     "end_time": "2023-11-27T07:10:41.223066900Z",
     "start_time": "2023-11-27T07:10:40.512068600Z"
    }
   },
   "id": "d30e26ff04584461"
  },
  {
   "cell_type": "code",
   "execution_count": 123,
   "outputs": [
    {
     "name": "stdout",
     "output_type": "stream",
     "text": [
      "AVG: 0.19325301753940494\n"
     ]
    }
   ],
   "source": [
    "print('AVG:', np.mean(scores))"
   ],
   "metadata": {
    "collapsed": false,
    "ExecuteTime": {
     "end_time": "2023-11-27T07:10:41.293073500Z",
     "start_time": "2023-11-27T07:10:41.219069200Z"
    }
   },
   "id": "11f5486e5188f74b"
  },
  {
   "cell_type": "code",
   "execution_count": 124,
   "outputs": [
    {
     "data": {
      "text/plain": "          cv1       cv2       cv3       cv4       cv5\nMAE  0.190792  0.193758  0.194132  0.191825  0.195758",
      "text/html": "<div>\n<style scoped>\n    .dataframe tbody tr th:only-of-type {\n        vertical-align: middle;\n    }\n\n    .dataframe tbody tr th {\n        vertical-align: top;\n    }\n\n    .dataframe thead th {\n        text-align: right;\n    }\n</style>\n<table border=\"1\" class=\"dataframe\">\n  <thead>\n    <tr style=\"text-align: right;\">\n      <th></th>\n      <th>cv1</th>\n      <th>cv2</th>\n      <th>cv3</th>\n      <th>cv4</th>\n      <th>cv5</th>\n    </tr>\n  </thead>\n  <tbody>\n    <tr>\n      <th>MAE</th>\n      <td>0.190792</td>\n      <td>0.193758</td>\n      <td>0.194132</td>\n      <td>0.191825</td>\n      <td>0.195758</td>\n    </tr>\n  </tbody>\n</table>\n</div>"
     },
     "execution_count": 124,
     "metadata": {},
     "output_type": "execute_result"
    }
   ],
   "source": [
    "scores = pd.DataFrame(scores.reshape(1,-1))\n",
    "scores.columns = ['cv' + str(x) for x in range(1, 6)]\n",
    "scores.index = ['MAE']\n",
    "scores"
   ],
   "metadata": {
    "collapsed": false,
    "ExecuteTime": {
     "end_time": "2023-11-27T07:10:41.309068900Z",
     "start_time": "2023-11-27T07:10:41.234068700Z"
    }
   },
   "id": "4740dec0f664b469"
  },
  {
   "cell_type": "code",
   "execution_count": 125,
   "outputs": [],
   "source": [
    "# import datetime\n",
    "# sample_feature = sample_feature.reset_index(drop=True)\n",
    "# split_point = len(sample_feature) // 5 * 4"
   ],
   "metadata": {
    "collapsed": false,
    "ExecuteTime": {
     "end_time": "2023-11-27T07:10:41.310068400Z",
     "start_time": "2023-11-27T07:10:41.249067900Z"
    }
   },
   "id": "72d3d83fe14cf90b"
  },
  {
   "cell_type": "code",
   "execution_count": 126,
   "outputs": [],
   "source": [
    "# train = sample_feature.loc[:split_point].dropna()\n",
    "# val = sample_feature.loc[split_point:].dropna()"
   ],
   "metadata": {
    "collapsed": false,
    "ExecuteTime": {
     "end_time": "2023-11-27T07:10:41.310068400Z",
     "start_time": "2023-11-27T07:10:41.265066900Z"
    }
   },
   "id": "e4942d215f268309"
  },
  {
   "cell_type": "code",
   "execution_count": 127,
   "outputs": [],
   "source": [
    "# train_X = train[continuous_feature_names]\n",
    "# train_y_ln = np.log(train['price'] + 1)\n",
    "# val_X = val[continuous_feature_names]\n",
    "# val_y_ln = np.log(val['price'] + 1)"
   ],
   "metadata": {
    "collapsed": false,
    "ExecuteTime": {
     "end_time": "2023-11-27T07:10:41.327068Z",
     "start_time": "2023-11-27T07:10:41.281067900Z"
    }
   },
   "id": "1665496f77109364"
  },
  {
   "cell_type": "markdown",
   "source": [
    "## 3 绘制学习率曲线与验证曲线"
   ],
   "metadata": {
    "collapsed": false
   },
   "id": "d005d51f05e4ba9f"
  },
  {
   "cell_type": "code",
   "execution_count": 128,
   "outputs": [],
   "source": [
    "from sklearn.model_selection import learning_curve, validation_curve"
   ],
   "metadata": {
    "collapsed": false,
    "ExecuteTime": {
     "end_time": "2023-11-27T07:10:41.337066600Z",
     "start_time": "2023-11-27T07:10:41.296067600Z"
    }
   },
   "id": "696a84d1426a83ef"
  },
  {
   "cell_type": "code",
   "execution_count": 129,
   "outputs": [],
   "source": [
    "def plot_learning_curve(estimator, title, X, y, ylim=None, cv=None,n_jobs=1, train_size=np.linspace(.1, 1.0, 5 )):  \n",
    "    plt.figure()  \n",
    "    plt.title(title)  \n",
    "    if ylim is not None:  \n",
    "        plt.ylim(*ylim)  \n",
    "    plt.xlabel('Training example')  \n",
    "    plt.ylabel('score')  \n",
    "    train_sizes, train_scores, test_scores = learning_curve(estimator, X, y, cv=cv, n_jobs=n_jobs, train_sizes=train_size, scoring = make_scorer(mean_absolute_error))  \n",
    "    train_scores_mean = np.mean(train_scores, axis=1)  \n",
    "    train_scores_std = np.std(train_scores, axis=1)  \n",
    "    test_scores_mean = np.mean(test_scores, axis=1)  \n",
    "    test_scores_std = np.std(test_scores, axis=1)  \n",
    "    plt.grid()#区域  \n",
    "    plt.fill_between(train_sizes, train_scores_mean - train_scores_std,  \n",
    "                     train_scores_mean + train_scores_std, alpha=0.1,  \n",
    "                     color=\"r\")  \n",
    "    plt.fill_between(train_sizes, test_scores_mean - test_scores_std,  \n",
    "                     test_scores_mean + test_scores_std, alpha=0.1,  \n",
    "                     color=\"g\")  \n",
    "    plt.plot(train_sizes, train_scores_mean, 'o-', color='r',  \n",
    "             label=\"Training score\")  \n",
    "    plt.plot(train_sizes, test_scores_mean,'o-',color=\"g\",  \n",
    "             label=\"Cross-validation score\")  \n",
    "    plt.legend(loc=\"best\")  \n",
    "    return plt  "
   ],
   "metadata": {
    "collapsed": false,
    "ExecuteTime": {
     "end_time": "2023-11-27T07:10:41.376067900Z",
     "start_time": "2023-11-27T07:10:41.314068400Z"
    }
   },
   "id": "b9eabbcad2a8db84"
  },
  {
   "cell_type": "code",
   "execution_count": 130,
   "outputs": [
    {
     "data": {
      "text/plain": "<module 'matplotlib.pyplot' from 'D:\\\\Python\\\\lib\\\\site-packages\\\\matplotlib\\\\pyplot.py'>"
     },
     "execution_count": 130,
     "metadata": {},
     "output_type": "execute_result"
    },
    {
     "data": {
      "text/plain": "<Figure size 432x288 with 1 Axes>",
      "image/png": "[encoded data removed]"
     },
     "metadata": {},
     "output_type": "display_data"
    }
   ],
   "source": [
    "plot_learning_curve(LinearRegression(), 'Liner_model', train_X[:1000], train_y_ln[:1000], ylim=(0.0, 0.5), cv=5, n_jobs=1)  "
   ],
   "metadata": {
    "collapsed": false,
    "ExecuteTime": {
     "end_time": "2023-11-27T07:10:41.678297300Z",
     "start_time": "2023-11-27T07:10:41.328068100Z"
    }
   },
   "id": "7c667590a9d8970d"
  },
  {
   "cell_type": "code",
   "execution_count": 131,
   "outputs": [],
   "source": [
    "train = sample_feature[continuous_feature_names + ['price']].dropna()\n",
    "\n",
    "train_X = train[continuous_feature_names]\n",
    "train_y = train['price']\n",
    "train_y_ln = np.log(train_y + 1)"
   ],
   "metadata": {
    "collapsed": false,
    "ExecuteTime": {
     "end_time": "2023-11-27T07:10:41.737299900Z",
     "start_time": "2023-11-27T07:10:41.673298500Z"
    }
   },
   "id": "25c4498212395f35"
  },
  {
   "cell_type": "markdown",
   "source": [
    "## 多种模型对比"
   ],
   "metadata": {
    "collapsed": false
   },
   "id": "45143b021756eca4"
  },
  {
   "cell_type": "code",
   "execution_count": 132,
   "outputs": [],
   "source": [
    "from sklearn.linear_model import LinearRegression\n",
    "from sklearn.linear_model import Ridge\n",
    "from sklearn.linear_model import Lasso"
   ],
   "metadata": {
    "collapsed": false,
    "ExecuteTime": {
     "end_time": "2023-11-27T07:10:41.737299900Z",
     "start_time": "2023-11-27T07:10:41.705298700Z"
    }
   },
   "id": "56355a2ef1e71fee"
  },
  {
   "cell_type": "markdown",
   "source": [
    "###  1 线性模型 & 嵌入式特征选择"
   ],
   "metadata": {
    "collapsed": false
   },
   "id": "348b14bb303afa02"
  },
  {
   "cell_type": "code",
   "execution_count": 133,
   "outputs": [],
   "source": [
    "models = [LinearRegression(),\n",
    "          Ridge(),\n",
    "          Lasso()]"
   ],
   "metadata": {
    "collapsed": false,
    "ExecuteTime": {
     "end_time": "2023-11-27T07:10:41.739298500Z",
     "start_time": "2023-11-27T07:10:41.720298400Z"
    }
   },
   "id": "edf67b80d4b792e8"
  },
  {
   "cell_type": "code",
   "execution_count": 134,
   "outputs": [
    {
     "name": "stdout",
     "output_type": "stream",
     "text": [
      "LinearRegression is finished\n",
      "Ridge is finished\n",
      "Lasso is finished\n"
     ]
    }
   ],
   "source": [
    "result = dict()\n",
    "for model in models:\n",
    "    model_name = str(model).split('(')[0]\n",
    "    scores = cross_val_score(model, X=train_X, y=train_y_ln, verbose=0, cv = 5, scoring=make_scorer(mean_absolute_error))\n",
    "    result[model_name] = scores\n",
    "    print(model_name + ' is finished')"
   ],
   "metadata": {
    "collapsed": false,
    "ExecuteTime": {
     "end_time": "2023-11-27T07:10:51.201113300Z",
     "start_time": "2023-11-27T07:10:41.735299300Z"
    }
   },
   "id": "9cfa11a972322e08"
  },
  {
   "cell_type": "code",
   "execution_count": 135,
   "outputs": [
    {
     "data": {
      "text/plain": "     LinearRegression     Ridge     Lasso\ncv1          0.190792  0.194832  0.383899\ncv2          0.193758  0.197632  0.381893\ncv3          0.194132  0.198123  0.384090\ncv4          0.191825  0.195670  0.380526\ncv5          0.195758  0.199676  0.383611",
      "text/html": "<div>\n<style scoped>\n    .dataframe tbody tr th:only-of-type {\n        vertical-align: middle;\n    }\n\n    .dataframe tbody tr th {\n        vertical-align: top;\n    }\n\n    .dataframe thead th {\n        text-align: right;\n    }\n</style>\n<table border=\"1\" class=\"dataframe\">\n  <thead>\n    <tr style=\"text-align: right;\">\n      <th></th>\n      <th>LinearRegression</th>\n      <th>Ridge</th>\n      <th>Lasso</th>\n    </tr>\n  </thead>\n  <tbody>\n    <tr>\n      <th>cv1</th>\n      <td>0.190792</td>\n      <td>0.194832</td>\n      <td>0.383899</td>\n    </tr>\n    <tr>\n      <th>cv2</th>\n      <td>0.193758</td>\n      <td>0.197632</td>\n      <td>0.381893</td>\n    </tr>\n    <tr>\n      <th>cv3</th>\n      <td>0.194132</td>\n      <td>0.198123</td>\n      <td>0.384090</td>\n    </tr>\n    <tr>\n      <th>cv4</th>\n      <td>0.191825</td>\n      <td>0.195670</td>\n      <td>0.380526</td>\n    </tr>\n    <tr>\n      <th>cv5</th>\n      <td>0.195758</td>\n      <td>0.199676</td>\n      <td>0.383611</td>\n    </tr>\n  </tbody>\n</table>\n</div>"
     },
     "execution_count": 135,
     "metadata": {},
     "output_type": "execute_result"
    }
   ],
   "source": [
    "result = pd.DataFrame(result)\n",
    "result.index = ['cv' + str(x) for x in range(1, 6)]\n",
    "result"
   ],
   "metadata": {
    "collapsed": false,
    "ExecuteTime": {
     "end_time": "2023-11-27T07:10:51.231112900Z",
     "start_time": "2023-11-27T07:10:51.201113300Z"
    }
   },
   "id": "5bea58429b9df506"
  },
  {
   "cell_type": "code",
   "execution_count": 136,
   "outputs": [
    {
     "name": "stdout",
     "output_type": "stream",
     "text": [
      "intercept:18.750748443078322\n"
     ]
    },
    {
     "data": {
      "text/plain": "<AxesSubplot:xlabel='Coefficient', ylabel='Feature'>"
     },
     "execution_count": 136,
     "metadata": {},
     "output_type": "execute_result"
    },
    {
     "data": {
      "text/plain": "<Figure size 432x288 with 1 Axes>",
      "image/png": "[encoded data removed]"
     },
     "metadata": {},
     "output_type": "display_data"
    }
   ],
   "source": [
    "model = LinearRegression().fit(train_X, train_y_ln)\n",
    "print('intercept:'+ str(model.intercept_))\n",
    "# Create a DataFrame for plotting\n",
    "data = pd.DataFrame({\n",
    "    'Feature': continuous_feature_names,\n",
    "    'Coefficient': abs(model.coef_)\n",
    "})\n",
    "\n",
    "# Plot using seaborn\n",
    "sns.barplot(x='Coefficient', y='Feature', data=data)"
   ],
   "metadata": {
    "collapsed": false,
    "ExecuteTime": {
     "end_time": "2023-11-27T07:10:52.068285Z",
     "start_time": "2023-11-27T07:10:51.220116200Z"
    }
   },
   "id": "4ca16d5ad85fa9e0"
  },
  {
   "cell_type": "markdown",
   "source": [
    "L2正则化在拟合过程中通常都倾向于让权值尽可能小，最后构造一个所有参数都比较小的模型。因为一般认为参数值小的模型比较简单，能适应不同的数据集，也在一定程度上避免了过拟合现象。可以设想一下对于一个线性回归方程，若参数很大，那么只要数据偏移一点点，就会对结果造成很大的影响；但如果参数足够小，数据偏移得多一点也不会对结果造成什么影响，专业一点的说法是『抗扰动能力强』"
   ],
   "metadata": {
    "collapsed": false
   },
   "id": "62ddc026ba143e48"
  },
  {
   "cell_type": "code",
   "execution_count": 137,
   "outputs": [
    {
     "name": "stdout",
     "output_type": "stream",
     "text": [
      "intercept:4.671710763567269\n"
     ]
    },
    {
     "data": {
      "text/plain": "<AxesSubplot:xlabel='Coefficient', ylabel='Feature'>"
     },
     "execution_count": 137,
     "metadata": {},
     "output_type": "execute_result"
    },
    {
     "data": {
      "text/plain": "<Figure size 432x288 with 1 Axes>",
      "image/png": "[encoded data removed]"
     },
     "metadata": {},
     "output_type": "display_data"
    }
   ],
   "source": [
    "model = Ridge().fit(train_X, train_y_ln)\n",
    "print('intercept:'+ str(model.intercept_))\n",
    "data = pd.DataFrame({\n",
    "    'Feature': continuous_feature_names,\n",
    "    'Coefficient': abs(model.coef_)\n",
    "})\n",
    "\n",
    "# Plot using seaborn\n",
    "sns.barplot(x='Coefficient', y='Feature', data=data)"
   ],
   "metadata": {
    "collapsed": false,
    "ExecuteTime": {
     "end_time": "2023-11-27T07:10:52.453285400Z",
     "start_time": "2023-11-27T07:10:52.057286300Z"
    }
   },
   "id": "e8a534397e5eebd4"
  },
  {
   "cell_type": "markdown",
   "source": [
    "L1正则化有助于生成一个稀疏权值矩阵，进而可以用于特征选择。如下图，我们发现power与userd_time特征非常重要"
   ],
   "metadata": {
    "collapsed": false
   },
   "id": "32213cb2bc714aff"
  },
  {
   "cell_type": "code",
   "execution_count": 138,
   "outputs": [
    {
     "name": "stdout",
     "output_type": "stream",
     "text": [
      "intercept:8.672182470075398\n"
     ]
    },
    {
     "data": {
      "text/plain": "<AxesSubplot:xlabel='Coefficient', ylabel='Feature'>"
     },
     "execution_count": 138,
     "metadata": {},
     "output_type": "execute_result"
    },
    {
     "data": {
      "text/plain": "<Figure size 432x288 with 1 Axes>",
      "image/png": "[encoded data removed]"
     },
     "metadata": {},
     "output_type": "display_data"
    }
   ],
   "source": [
    "model = Lasso().fit(train_X, train_y_ln)\n",
    "print('intercept:'+ str(model.intercept_))\n",
    "data = pd.DataFrame({\n",
    "    'Feature': continuous_feature_names,\n",
    "    'Coefficient': abs(model.coef_)\n",
    "})\n",
    "\n",
    "# Plot using seaborn\n",
    "sns.barplot(x='Coefficient', y='Feature', data=data)"
   ],
   "metadata": {
    "collapsed": false,
    "ExecuteTime": {
     "end_time": "2023-11-27T07:10:54.995126900Z",
     "start_time": "2023-11-27T07:10:52.449286300Z"
    }
   },
   "id": "8360bcad286f0146"
  },
  {
   "cell_type": "markdown",
   "source": [
    "除此之外，决策树通过信息熵或GINI指数选择分裂节点时，优先选择的分裂特征也更加重要，这同样是一种特征选择的方法。XGBoost与LightGBM模型中的model_importance指标正是基于此计算的"
   ],
   "metadata": {
    "collapsed": false
   },
   "id": "7f1d920cfb362d3d"
  },
  {
   "cell_type": "markdown",
   "source": [
    "###  2 非线性模型\n",
    "除了线性模型以外，还有许多我们常用的非线性模型如下。"
   ],
   "metadata": {
    "collapsed": false
   },
   "id": "8d39a658f188d373"
  },
  {
   "cell_type": "code",
   "execution_count": 139,
   "outputs": [],
   "source": [
    "from sklearn.linear_model import LinearRegression\n",
    "from sklearn.svm import SVC\n",
    "from sklearn.tree import DecisionTreeRegressor\n",
    "from sklearn.ensemble import RandomForestRegressor\n",
    "from sklearn.ensemble import GradientBoostingRegressor\n",
    "from sklearn.neural_network import MLPRegressor\n",
    "from xgboost.sklearn import XGBRegressor\n",
    "from lightgbm.sklearn import LGBMRegressor"
   ],
   "metadata": {
    "collapsed": false,
    "ExecuteTime": {
     "end_time": "2023-11-27T07:10:55.043129500Z",
     "start_time": "2023-11-27T07:10:54.997127Z"
    }
   },
   "id": "aab22b020c088817"
  },
  {
   "cell_type": "code",
   "execution_count": 140,
   "outputs": [],
   "source": [
    "models = [LinearRegression(),\n",
    "          DecisionTreeRegressor(),\n",
    "          RandomForestRegressor(),\n",
    "          GradientBoostingRegressor(),\n",
    "          MLPRegressor(solver='lbfgs', max_iter=100), \n",
    "          XGBRegressor(n_estimators = 100, objective='reg:squarederror'), \n",
    "          LGBMRegressor(n_estimators = 100)]"
   ],
   "metadata": {
    "collapsed": false,
    "ExecuteTime": {
     "end_time": "2023-11-27T07:10:55.044130400Z",
     "start_time": "2023-11-27T07:10:55.013127500Z"
    }
   },
   "id": "659ee5b28fae4f66"
  },
  {
   "cell_type": "code",
   "execution_count": 141,
   "outputs": [
    {
     "name": "stdout",
     "output_type": "stream",
     "text": [
      "LinearRegression is finished; used 0.525997 seconds\n",
      "DecisionTreeRegressor is finished; used 10.117358 seconds\n",
      "RandomForestRegressor is finished; used 602.298543 seconds\n",
      "GradientBoostingRegressor is finished; used 168.287223 seconds\n",
      "MLPRegressor is finished; used 90.264755 seconds\n",
      "XGBRegressor is finished; used 3.917295 seconds\n",
      "[LightGBM] [Info] Auto-choosing col-wise multi-threading, the overhead of testing was 0.010509 seconds.\n",
      "You can set `force_col_wise=true` to remove the overhead.\n",
      "[LightGBM] [Info] Total Bins 5094\n",
      "[LightGBM] [Info] Number of data points in the train set: 73383, number of used features: 33\n",
      "[LightGBM] [Info] Start training from score 8.164231\n",
      "[LightGBM] [Info] Auto-choosing col-wise multi-threading, the overhead of testing was 0.010959 seconds.\n",
      "You can set `force_col_wise=true` to remove the overhead.\n",
      "[LightGBM] [Info] Total Bins 5090\n",
      "[LightGBM] [Info] Number of data points in the train set: 73383, number of used features: 33\n",
      "[LightGBM] [Info] Start training from score 8.168351\n",
      "[LightGBM] [Info] Auto-choosing col-wise multi-threading, the overhead of testing was 0.011433 seconds.\n",
      "You can set `force_col_wise=true` to remove the overhead.\n",
      "[LightGBM] [Info] Total Bins 5090\n",
      "[LightGBM] [Info] Number of data points in the train set: 73383, number of used features: 33\n",
      "[LightGBM] [Info] Start training from score 8.168239\n",
      "[LightGBM] [Info] Auto-choosing col-wise multi-threading, the overhead of testing was 0.010462 seconds.\n",
      "You can set `force_col_wise=true` to remove the overhead.\n",
      "[LightGBM] [Info] Total Bins 5089\n",
      "[LightGBM] [Info] Number of data points in the train set: 73383, number of used features: 33\n",
      "[LightGBM] [Info] Start training from score 8.166441\n",
      "[LightGBM] [Info] Auto-choosing col-wise multi-threading, the overhead of testing was 0.010738 seconds.\n",
      "You can set `force_col_wise=true` to remove the overhead.\n",
      "[LightGBM] [Info] Total Bins 5090\n",
      "[LightGBM] [Info] Number of data points in the train set: 73384, number of used features: 33\n",
      "[LightGBM] [Info] Start training from score 8.167810\n",
      "LGBMRegressor is finished; used 3.616354 seconds\n"
     ]
    }
   ],
   "source": [
    "result = dict()\n",
    "from time import time\n",
    "for model in models:\n",
    "    start = time()\n",
    "    model_name = str(model).split('(')[0]\n",
    "    scores = cross_val_score(model, X=train_X, y=train_y_ln, verbose=0, cv = 5, scoring=make_scorer(mean_absolute_error))\n",
    "    result[model_name] = scores\n",
    "    end = time()\n",
    "    elapsed = end - start\n",
    "    print('{0} is finished; used {1:5f} seconds'.format(model_name, elapsed))"
   ],
   "metadata": {
    "collapsed": false,
    "ExecuteTime": {
     "end_time": "2023-11-27T07:25:34.071654700Z",
     "start_time": "2023-11-27T07:10:55.027127900Z"
    }
   },
   "id": "59fec91bb4388282"
  },
  {
   "cell_type": "code",
   "execution_count": 142,
   "outputs": [
    {
     "data": {
      "text/plain": "     LinearRegression  DecisionTreeRegressor  RandomForestRegressor  \\\ncv1          0.190792               0.197427               0.132812   \ncv2          0.193758               0.192250               0.134405   \ncv3          0.194132               0.190136               0.133727   \ncv4          0.191825               0.190088               0.132605   \ncv5          0.195758               0.204664               0.137078   \n\n     GradientBoostingRegressor  MLPRegressor  XGBRegressor  LGBMRegressor  \ncv1                   0.168897   1711.598413      0.137922       0.141544  \ncv2                   0.171850    224.038368      0.138979       0.145501  \ncv3                   0.170906    928.775996      0.138711       0.143887  \ncv4                   0.169083    287.403374      0.137012       0.142497  \ncv5                   0.174088    541.172120      0.140362       0.144852  ",
      "text/html": "<div>\n<style scoped>\n    .dataframe tbody tr th:only-of-type {\n        vertical-align: middle;\n    }\n\n    .dataframe tbody tr th {\n        vertical-align: top;\n    }\n\n    .dataframe thead th {\n        text-align: right;\n    }\n</style>\n<table border=\"1\" class=\"dataframe\">\n  <thead>\n    <tr style=\"text-align: right;\">\n      <th></th>\n      <th>LinearRegression</th>\n      <th>DecisionTreeRegressor</th>\n      <th>RandomForestRegressor</th>\n      <th>GradientBoostingRegressor</th>\n      <th>MLPRegressor</th>\n      <th>XGBRegressor</th>\n      <th>LGBMRegressor</th>\n    </tr>\n  </thead>\n  <tbody>\n    <tr>\n      <th>cv1</th>\n      <td>0.190792</td>\n      <td>0.197427</td>\n      <td>0.132812</td>\n      <td>0.168897</td>\n      <td>1711.598413</td>\n      <td>0.137922</td>\n      <td>0.141544</td>\n    </tr>\n    <tr>\n      <th>cv2</th>\n      <td>0.193758</td>\n      <td>0.192250</td>\n      <td>0.134405</td>\n      <td>0.171850</td>\n      <td>224.038368</td>\n      <td>0.138979</td>\n      <td>0.145501</td>\n    </tr>\n    <tr>\n      <th>cv3</th>\n      <td>0.194132</td>\n      <td>0.190136</td>\n      <td>0.133727</td>\n      <td>0.170906</td>\n      <td>928.775996</td>\n      <td>0.138711</td>\n      <td>0.143887</td>\n    </tr>\n    <tr>\n      <th>cv4</th>\n      <td>0.191825</td>\n      <td>0.190088</td>\n      <td>0.132605</td>\n      <td>0.169083</td>\n      <td>287.403374</td>\n      <td>0.137012</td>\n      <td>0.142497</td>\n    </tr>\n    <tr>\n      <th>cv5</th>\n      <td>0.195758</td>\n      <td>0.204664</td>\n      <td>0.137078</td>\n      <td>0.174088</td>\n      <td>541.172120</td>\n      <td>0.140362</td>\n      <td>0.144852</td>\n    </tr>\n  </tbody>\n</table>\n</div>"
     },
     "execution_count": 142,
     "metadata": {},
     "output_type": "execute_result"
    }
   ],
   "source": [
    "result = pd.DataFrame(result)\n",
    "result.index = ['cv' + str(x) for x in range(1, 6)]\n",
    "result"
   ],
   "metadata": {
    "collapsed": false,
    "ExecuteTime": {
     "end_time": "2023-11-27T07:25:34.104655800Z",
     "start_time": "2023-11-27T07:25:34.072655500Z"
    }
   },
   "id": "ba9d2ac8b274b8a1"
  },
  {
   "cell_type": "code",
   "execution_count": 2,
   "outputs": [
    {
     "data": {
      "text/plain": "2030"
     },
     "execution_count": 2,
     "metadata": {},
     "output_type": "execute_result"
    }
   ],
   "source": [],
   "metadata": {
    "collapsed": false,
    "ExecuteTime": {
     "end_time": "2023-12-20T14:45:50.846333600Z",
     "start_time": "2023-12-20T14:45:50.761334900Z"
    }
   },
   "id": "76a95ae109fe078c"
  },
  {
   "cell_type": "code",
   "execution_count": null,
   "outputs": [],
   "source": [],
   "metadata": {
    "collapsed": false
   },
   "id": "e3f60086dc847c1f"
  }
 ],
 "metadata": {
  "kernelspec": {
   "display_name": "Python 3",
   "language": "python",
   "name": "python3"
  },
  "language_info": {
   "codemirror_mode": {
    "name": "ipython",
    "version": 2
   },
   "file_extension": ".py",
   "mimetype": "text/x-python",
   "name": "python",
   "nbconvert_exporter": "python",
   "pygments_lexer": "ipython2",
   "version": "2.7.6"
  }
 },
 "nbformat": 4,
 "nbformat_minor": 5
}
