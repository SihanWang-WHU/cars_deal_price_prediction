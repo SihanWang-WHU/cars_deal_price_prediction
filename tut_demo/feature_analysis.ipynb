{
 "cells": [
  {
   "cell_type": "markdown",
   "source": [
    "# 常见的特征工程包括:\n",
    "\n",
    "## 1.异常处理：\n",
    "- 连续性变量（改3-Sigma）分布偏斜异常值；\n",
    "- BOX-COX转换（处理偏斜分布）；\n",
    "- 长尾截断；\n",
    "\n",
    "## 2.特征归一化/标准化：\n",
    "- 标准化（特征均值正态分布）；\n",
    "- 归一化（把特征压缩到[0,1]区间）；\n",
    "- 针对稀疏数据，可以采用公式：`log( (1+x) / (1+median) )`\n",
    "\n",
    "## 3.数据分箱：\n",
    "- 等宽分箱；\n",
    "- 等频分箱；\n",
    "- Best-KS 分箱（类似利用决策树进行一分为二）；\n",
    "- 卡方分箱；\n",
    "\n",
    "## 4.缺失值处理：\n",
    "- 不处理（针对某些如XGBoost等模型）；\n",
    "- 删除（缺失数据太多）；\n",
    "- 填补值，包括均值/中位数/众数/随机抽取/多重插补/反向距离权重/推荐系统等；\n",
    "- 分箱，缺失值一个箱；\n",
    "\n",
    "## 5.特征构造：\n",
    "- 从现有特征衍生，聚合统计，求和、比例、标准差等；\n",
    "- 时间特征，包括相对时间点的统计指标，节假日，双休日等；\n",
    "- 地理信息，包括分箱，分布密度等方法；\n",
    "- 非线性变换，包括log/ 平方/ 开方等；\n",
    "- 交互组合，特征交叉；\n",
    "- 特征组合，组合选取；\n",
    "- 一些规则，智能规则。\n",
    "\n",
    "## 6.特征筛选\n",
    "- 过滤式（filter）：先对数据进行特征选择，然后在训练分类器，常见的方法有Relief/方差选择法/相关系数法/卡方检验/信息增益；\n",
    "- 包装式（wrapper）：直接把最终将要使用的学习器的性能作为特征子集的评价准则，常见方法有LVM（Las Vegas Wrapper）；\n",
    "- 嵌入式（embedding）：结合过滤式和包装式，学习器训练过程中自动进行特征选择，常见的有lasso 回归；\n",
    "\n",
    "## 7.降维\n",
    "- PCA/ LDA/ ICA；\n",
    "- 特征选择也是一种降维。\n"
   ],
   "metadata": {
    "collapsed": false
   },
   "id": "434dc6568e5e05f7"
  },
  {
   "cell_type": "code",
   "execution_count": 20,
   "outputs": [],
   "source": [
    "import pandas as pd\n",
    "import numpy as np\n",
    "import matplotlib\n",
    "import matplotlib.pyplot as plt\n",
    "import seaborn as sns\n",
    "from operator import itemgetter\n",
    "\n",
    "%matplotlib inline"
   ],
   "metadata": {
    "collapsed": false,
    "ExecuteTime": {
     "end_time": "2023-11-24T07:17:35.847143300Z",
     "start_time": "2023-11-24T07:17:35.770141200Z"
    }
   },
   "id": "initial_id"
  },
  {
   "cell_type": "code",
   "execution_count": 21,
   "outputs": [
    {
     "name": "stdout",
     "output_type": "stream",
     "text": [
      "(150000, 31)\n",
      "(50000, 30)\n"
     ]
    }
   ],
   "source": [
    "path = '../data/'\n",
    "## 1) 载入训练集和测试集；\n",
    "train = pd.read_csv(path+'used_car_train_20200313.csv', sep=' ')\n",
    "test = pd.read_csv(path+'used_car_testB_20200421.csv', sep=' ')\n",
    "print(train.shape)\n",
    "print(test.shape)"
   ],
   "metadata": {
    "collapsed": false,
    "ExecuteTime": {
     "end_time": "2023-11-24T07:17:36.959141300Z",
     "start_time": "2023-11-24T07:17:35.797143200Z"
    }
   },
   "id": "d11277f311994fcc"
  },
  {
   "cell_type": "code",
   "execution_count": 22,
   "outputs": [
    {
     "data": {
      "text/plain": "   SaleID    name   regDate  model  brand  bodyType  fuelType  gearbox  power  \\\n0       0     736  20040402   30.0      6       1.0       0.0      0.0     60   \n1       1    2262  20030301   40.0      1       2.0       0.0      0.0      0   \n2       2   14874  20040403  115.0     15       1.0       0.0      0.0    163   \n3       3   71865  19960908  109.0     10       0.0       0.0      1.0    193   \n4       4  111080  20120103  110.0      5       1.0       0.0      0.0     68   \n\n   kilometer  ...       v_5       v_6       v_7       v_8       v_9      v_10  \\\n0       12.5  ...  0.235676  0.101988  0.129549  0.022816  0.097462 -2.881803   \n1       15.0  ...  0.264777  0.121004  0.135731  0.026597  0.020582 -4.900482   \n2       12.5  ...  0.251410  0.114912  0.165147  0.062173  0.027075 -4.846749   \n3       15.0  ...  0.274293  0.110300  0.121964  0.033395  0.000000 -4.509599   \n4        5.0  ...  0.228036  0.073205  0.091880  0.078819  0.121534 -1.896240   \n\n       v_11      v_12      v_13      v_14  \n0  2.804097 -2.420821  0.795292  0.914762  \n1  2.096338 -1.030483 -1.722674  0.245522  \n2  1.803559  1.565330 -0.832687 -0.229963  \n3  1.285940 -0.501868 -2.438353 -0.478699  \n4  0.910783  0.931110  2.834518  1.923482  \n\n[5 rows x 31 columns]",
      "text/html": "<div>\n<style scoped>\n    .dataframe tbody tr th:only-of-type {\n        vertical-align: middle;\n    }\n\n    .dataframe tbody tr th {\n        vertical-align: top;\n    }\n\n    .dataframe thead th {\n        text-align: right;\n    }\n</style>\n<table border=\"1\" class=\"dataframe\">\n  <thead>\n    <tr style=\"text-align: right;\">\n      <th></th>\n      <th>SaleID</th>\n      <th>name</th>\n      <th>regDate</th>\n      <th>model</th>\n      <th>brand</th>\n      <th>bodyType</th>\n      <th>fuelType</th>\n      <th>gearbox</th>\n      <th>power</th>\n      <th>kilometer</th>\n      <th>...</th>\n      <th>v_5</th>\n      <th>v_6</th>\n      <th>v_7</th>\n      <th>v_8</th>\n      <th>v_9</th>\n      <th>v_10</th>\n      <th>v_11</th>\n      <th>v_12</th>\n      <th>v_13</th>\n      <th>v_14</th>\n    </tr>\n  </thead>\n  <tbody>\n    <tr>\n      <th>0</th>\n      <td>0</td>\n      <td>736</td>\n      <td>20040402</td>\n      <td>30.0</td>\n      <td>6</td>\n      <td>1.0</td>\n      <td>0.0</td>\n      <td>0.0</td>\n      <td>60</td>\n      <td>12.5</td>\n      <td>...</td>\n      <td>0.235676</td>\n      <td>0.101988</td>\n      <td>0.129549</td>\n      <td>0.022816</td>\n      <td>0.097462</td>\n      <td>-2.881803</td>\n      <td>2.804097</td>\n      <td>-2.420821</td>\n      <td>0.795292</td>\n      <td>0.914762</td>\n    </tr>\n    <tr>\n      <th>1</th>\n      <td>1</td>\n      <td>2262</td>\n      <td>20030301</td>\n      <td>40.0</td>\n      <td>1</td>\n      <td>2.0</td>\n      <td>0.0</td>\n      <td>0.0</td>\n      <td>0</td>\n      <td>15.0</td>\n      <td>...</td>\n      <td>0.264777</td>\n      <td>0.121004</td>\n      <td>0.135731</td>\n      <td>0.026597</td>\n      <td>0.020582</td>\n      <td>-4.900482</td>\n      <td>2.096338</td>\n      <td>-1.030483</td>\n      <td>-1.722674</td>\n      <td>0.245522</td>\n    </tr>\n    <tr>\n      <th>2</th>\n      <td>2</td>\n      <td>14874</td>\n      <td>20040403</td>\n      <td>115.0</td>\n      <td>15</td>\n      <td>1.0</td>\n      <td>0.0</td>\n      <td>0.0</td>\n      <td>163</td>\n      <td>12.5</td>\n      <td>...</td>\n      <td>0.251410</td>\n      <td>0.114912</td>\n      <td>0.165147</td>\n      <td>0.062173</td>\n      <td>0.027075</td>\n      <td>-4.846749</td>\n      <td>1.803559</td>\n      <td>1.565330</td>\n      <td>-0.832687</td>\n      <td>-0.229963</td>\n    </tr>\n    <tr>\n      <th>3</th>\n      <td>3</td>\n      <td>71865</td>\n      <td>19960908</td>\n      <td>109.0</td>\n      <td>10</td>\n      <td>0.0</td>\n      <td>0.0</td>\n      <td>1.0</td>\n      <td>193</td>\n      <td>15.0</td>\n      <td>...</td>\n      <td>0.274293</td>\n      <td>0.110300</td>\n      <td>0.121964</td>\n      <td>0.033395</td>\n      <td>0.000000</td>\n      <td>-4.509599</td>\n      <td>1.285940</td>\n      <td>-0.501868</td>\n      <td>-2.438353</td>\n      <td>-0.478699</td>\n    </tr>\n    <tr>\n      <th>4</th>\n      <td>4</td>\n      <td>111080</td>\n      <td>20120103</td>\n      <td>110.0</td>\n      <td>5</td>\n      <td>1.0</td>\n      <td>0.0</td>\n      <td>0.0</td>\n      <td>68</td>\n      <td>5.0</td>\n      <td>...</td>\n      <td>0.228036</td>\n      <td>0.073205</td>\n      <td>0.091880</td>\n      <td>0.078819</td>\n      <td>0.121534</td>\n      <td>-1.896240</td>\n      <td>0.910783</td>\n      <td>0.931110</td>\n      <td>2.834518</td>\n      <td>1.923482</td>\n    </tr>\n  </tbody>\n</table>\n<p>5 rows × 31 columns</p>\n</div>"
     },
     "execution_count": 22,
     "metadata": {},
     "output_type": "execute_result"
    }
   ],
   "source": [
    "train.head()"
   ],
   "metadata": {
    "collapsed": false,
    "ExecuteTime": {
     "end_time": "2023-11-24T07:17:37.011020100Z",
     "start_time": "2023-11-24T07:17:36.974419Z"
    }
   },
   "id": "dfa056cd1ec805e2"
  },
  {
   "cell_type": "code",
   "execution_count": 23,
   "outputs": [
    {
     "name": "stdout",
     "output_type": "stream",
     "text": [
      "Delete number is: 963\n",
      "Now column number is: 149037\n",
      "Description of data less than the lower bound is:\n",
      "count    0.0\n",
      "mean     NaN\n",
      "std      NaN\n",
      "min      NaN\n",
      "25%      NaN\n",
      "50%      NaN\n",
      "75%      NaN\n",
      "max      NaN\n",
      "Name: power, dtype: float64\n",
      "Description of data larger than the upper bound is:\n",
      "count      963.000000\n",
      "mean       846.836968\n",
      "std       1929.418081\n",
      "min        376.000000\n",
      "25%        400.000000\n",
      "50%        436.000000\n",
      "75%        514.000000\n",
      "max      19312.000000\n",
      "Name: power, dtype: float64\n"
     ]
    },
    {
     "data": {
      "text/plain": "<Figure size 720x504 with 2 Axes>",
      "image/png": "[encoded data removed]"
     },
     "metadata": {
      "needs_background": "light"
     },
     "output_type": "display_data"
    }
   ],
   "source": [
    "# 这里我包装了一个异常值处理的代码，可以随便调用。\n",
    "def outliers_proc(data, col_name, scale=3):\n",
    "    \"\"\"\n",
    "    用于清洗异常值，默认用 box_plot（scale=3）进行清洗\n",
    "    :param data: 接收 pandas 数据格式\n",
    "    :param col_name: pandas 列名\n",
    "    :param scale: 尺度\n",
    "    :return:\n",
    "    \"\"\"\n",
    "\n",
    "    def box_plot_outliers(data_ser, box_scale):\n",
    "        \"\"\"\n",
    "        利用箱线图去除异常值\n",
    "        :param data_ser: 接收 pandas.Series 数据格式\n",
    "        :param box_scale: 箱线图尺度，\n",
    "        :return:\n",
    "        \"\"\"\n",
    "        iqr = box_scale * (data_ser.quantile(0.75) - data_ser.quantile(0.25))\n",
    "        val_low = data_ser.quantile(0.25) - iqr\n",
    "        val_up = data_ser.quantile(0.75) + iqr\n",
    "        rule_low = (data_ser < val_low)\n",
    "        rule_up = (data_ser > val_up)\n",
    "        return (rule_low, rule_up), (val_low, val_up)\n",
    "\n",
    "    data_n = data.copy()\n",
    "    data_series = data_n[col_name]\n",
    "    rule, value = box_plot_outliers(data_series, box_scale=scale)\n",
    "    index = np.arange(data_series.shape[0])[rule[0] | rule[1]]\n",
    "    print(\"Delete number is: {}\".format(len(index)))\n",
    "    data_n = data_n.drop(index)\n",
    "    data_n.reset_index(drop=True, inplace=True)\n",
    "    print(\"Now column number is: {}\".format(data_n.shape[0]))\n",
    "    index_low = np.arange(data_series.shape[0])[rule[0]]\n",
    "    outliers = data_series.iloc[index_low]\n",
    "    print(\"Description of data less than the lower bound is:\")\n",
    "    print(pd.Series(outliers).describe())\n",
    "    index_up = np.arange(data_series.shape[0])[rule[1]]\n",
    "    outliers = data_series.iloc[index_up]\n",
    "    print(\"Description of data larger than the upper bound is:\")\n",
    "    print(pd.Series(outliers).describe())\n",
    "    \n",
    "    fig, ax = plt.subplots(1, 2, figsize=(10, 7))\n",
    "    sns.boxplot(y=data[col_name], data=data, palette=\"Set1\", ax=ax[0])\n",
    "    sns.boxplot(y=data_n[col_name], data=data_n, palette=\"Set1\", ax=ax[1])\n",
    "    return data_n\n",
    "\n",
    "train = outliers_proc(train, 'power', scale=3)"
   ],
   "metadata": {
    "collapsed": false,
    "ExecuteTime": {
     "end_time": "2023-11-24T07:17:37.282020100Z",
     "start_time": "2023-11-24T07:17:36.992020100Z"
    }
   },
   "id": "90dd095474f92592"
  },
  {
   "cell_type": "code",
   "execution_count": 24,
   "outputs": [],
   "source": [
    "# 训练集和测试集放在一起，方便构造特征\n",
    "train['train']=1\n",
    "test['train']=0\n",
    "data = pd.concat([train, test], ignore_index=True, sort=False)"
   ],
   "metadata": {
    "collapsed": false,
    "ExecuteTime": {
     "end_time": "2023-11-24T07:17:37.351253700Z",
     "start_time": "2023-11-24T07:17:37.260024800Z"
    }
   },
   "id": "af4e0699cfb27a87"
  },
  {
   "cell_type": "code",
   "execution_count": 25,
   "outputs": [
    {
     "data": {
      "text/plain": "<AxesSubplot:>"
     },
     "execution_count": 25,
     "metadata": {},
     "output_type": "execute_result"
    },
    {
     "data": {
      "text/plain": "<Figure size 432x288 with 1 Axes>",
      "image/png": "[encoded data removed]"
     },
     "metadata": {
      "needs_background": "light"
     },
     "output_type": "display_data"
    }
   ],
   "source": [
    "miss_train = train.isnull().sum()\n",
    "miss_train = miss_train[miss_train>0]\n",
    "miss_train.sort_values(inplace=True)\n",
    "miss_train.plot.bar()"
   ],
   "metadata": {
    "collapsed": false,
    "ExecuteTime": {
     "end_time": "2023-11-24T07:17:37.431252400Z",
     "start_time": "2023-11-24T07:17:37.309251600Z"
    }
   },
   "id": "cd918dc0b1aeb1fb"
  },
  {
   "cell_type": "code",
   "execution_count": 26,
   "outputs": [
    {
     "data": {
      "text/plain": "(149037, 32)"
     },
     "execution_count": 26,
     "metadata": {},
     "output_type": "execute_result"
    }
   ],
   "source": [
    "train.shape"
   ],
   "metadata": {
    "collapsed": false,
    "ExecuteTime": {
     "end_time": "2023-11-24T07:17:37.449252900Z",
     "start_time": "2023-11-24T07:17:37.431252400Z"
    }
   },
   "id": "fab961ef0e10e4cd"
  },
  {
   "cell_type": "code",
   "execution_count": 27,
   "outputs": [],
   "source": [
    "# 使用时间：data['creatDate'] - data['regDate']，反应汽车使用时间，一般来说价格与使用时间成反比\n",
    "# 不过要注意，数据里有时间出错的格式，所以我们需要 errors='coerce'\n",
    "data['used_time'] = (pd.to_datetime(data['creatDate'], format='%Y%m%d', errors='coerce') - \n",
    "                            pd.to_datetime(data['regDate'], format='%Y%m%d', errors='coerce')).dt.days"
   ],
   "metadata": {
    "collapsed": false,
    "ExecuteTime": {
     "end_time": "2023-11-24T07:27:31.671547800Z",
     "start_time": "2023-11-24T07:27:30.811349500Z"
    }
   },
   "id": "6e68fde61a3fba51"
  },
  {
   "cell_type": "code",
   "execution_count": 28,
   "outputs": [
    {
     "data": {
      "text/plain": "15054"
     },
     "execution_count": 28,
     "metadata": {},
     "output_type": "execute_result"
    }
   ],
   "source": [
    "# 看一下空数据，有 15k 个样本的时间是有问题的，我们可以选择删除，也可以选择放着。\n",
    "# 但是这里不建议删除，因为删除缺失数据占总样本量过大，7.5%\n",
    "# 我们可以先放着，因为如果我们 XGBoost 之类的决策树，其本身就能处理缺失值，所以可以不用管；\n",
    "data['used_time'].isnull().sum()"
   ],
   "metadata": {
    "collapsed": false,
    "ExecuteTime": {
     "end_time": "2023-11-24T07:27:44.797972800Z",
     "start_time": "2023-11-24T07:27:44.753974700Z"
    }
   },
   "id": "19c0e896b14a4d81"
  },
  {
   "cell_type": "code",
   "execution_count": 29,
   "outputs": [],
   "source": [
    "# 从邮编中提取城市信息，因为是德国的数据，所以参考德国的邮编，相当于加入了先验知识\n",
    "data['city'] = data['regionCode'].apply(lambda x : str(x)[:-3])"
   ],
   "metadata": {
    "collapsed": false,
    "ExecuteTime": {
     "end_time": "2023-11-24T07:28:00.790411800Z",
     "start_time": "2023-11-24T07:28:00.700412900Z"
    }
   },
   "id": "2e22203da9513ee"
  },
  {
   "cell_type": "code",
   "execution_count": 33,
   "outputs": [
    {
     "data": {
      "text/plain": "count    183983.000000\nmean       4440.093634\nstd        1951.061010\nmin          51.000000\n25%        2955.000000\n50%        4434.000000\n75%        5931.000000\nmax        9222.000000\nName: used_time, dtype: float64"
     },
     "execution_count": 33,
     "metadata": {},
     "output_type": "execute_result"
    }
   ],
   "source": [
    "data['used_time'].describe()"
   ],
   "metadata": {
    "collapsed": false,
    "ExecuteTime": {
     "end_time": "2023-11-24T07:35:06.993853100Z",
     "start_time": "2023-11-24T07:35:06.949851700Z"
    }
   },
   "id": "4378487dde3ffa16"
  },
  {
   "cell_type": "code",
   "execution_count": 34,
   "outputs": [],
   "source": [
    "# 计算某品牌的销售统计量，同学们还可以计算其他特征的统计量\n",
    "# 这里要以 train 的数据计算统计量\n",
    "train_gb = train.groupby(\"brand\")\n",
    "all_info = {}\n",
    "for kind, kind_data in train_gb:\n",
    "    info = {}\n",
    "    kind_data = kind_data[kind_data['price'] > 0]\n",
    "    info['brand_amount'] = len(kind_data)\n",
    "    info['brand_price_max'] = kind_data.price.max()\n",
    "    info['brand_price_median'] = kind_data.price.median()\n",
    "    info['brand_price_min'] = kind_data.price.min()\n",
    "    info['brand_price_sum'] = kind_data.price.sum()\n",
    "    info['brand_price_std'] = kind_data.price.std()\n",
    "    info['brand_price_average'] = round(kind_data.price.sum() / (len(kind_data) + 1), 2)\n",
    "    all_info[kind] = info\n",
    "brand_fe = pd.DataFrame(all_info).T.reset_index().rename(columns={\"index\": \"brand\"})\n",
    "data = data.merge(brand_fe, how='left', on='brand')"
   ],
   "metadata": {
    "collapsed": false,
    "ExecuteTime": {
     "end_time": "2023-11-24T07:36:09.783450300Z",
     "start_time": "2023-11-24T07:36:09.576451500Z"
    }
   },
   "id": "c59d02bb9e52a1c2"
  },
  {
   "cell_type": "code",
   "execution_count": 35,
   "outputs": [
    {
     "data": {
      "text/plain": "    brand  brand_amount  brand_price_max  brand_price_median  brand_price_min  \\\n0       0       31429.0          68500.0              3199.0             13.0   \n1       1       13656.0          84000.0              6399.0             15.0   \n2       2         318.0          55800.0              7500.0             35.0   \n3       3        2461.0          37500.0              4990.0             65.0   \n4       4       16575.0          99999.0              5999.0             12.0   \n5       5        4662.0          31500.0              2300.0             20.0   \n6       6       10193.0          35990.0              1800.0             13.0   \n7       7        2360.0          38900.0              2600.0             60.0   \n8       8        2070.0          99999.0              2270.0             30.0   \n9       9        7299.0          68530.0              1400.0             50.0   \n10     10       13994.0          92900.0              5200.0             15.0   \n11     11        2944.0          34500.0              2900.0             30.0   \n12     12        1108.0          27490.0              2625.0             50.0   \n13     13        3813.0          35000.0              1600.0             20.0   \n14     14       16073.0          38990.0              1700.0             12.0   \n15     15        1458.0          45000.0              8500.0            100.0   \n16     16        2219.0          17900.0              2999.0             20.0   \n17     17         913.0          55800.0              2200.0             15.0   \n18     18         315.0          34599.0              1999.0             50.0   \n19     19        1386.0          42350.0              2800.0             20.0   \n20     20        1235.0          37800.0              1750.0             15.0   \n21     21        1546.0          35999.0              4225.0             50.0   \n22     22        1085.0          43900.0              3950.0             50.0   \n23     23         183.0          64000.0              1200.0             99.0   \n24     24         630.0          99999.0             27450.0             15.0   \n25     25        2059.0          22500.0              2500.0             25.0   \n26     26         878.0          99999.0              5000.0             11.0   \n27     27        2049.0          62900.0              4200.0             35.0   \n28     28         633.0          39900.0              3790.0             80.0   \n29     29         406.0          19990.0              5250.0            500.0   \n30     30         940.0          23200.0              3295.0             50.0   \n31     31         318.0          11000.0              1000.0             50.0   \n32     32         588.0          33500.0              2350.0             50.0   \n33     33         201.0          65000.0              5600.0            980.0   \n34     34         227.0           2900.0               999.0             60.0   \n35     35         180.0          28900.0               950.0             50.0   \n36     36         228.0          20900.0              2250.0            150.0   \n37     37         331.0          86500.0             13250.0            550.0   \n38     38          65.0           8999.0              2850.0             99.0   \n39     39           9.0          14500.0              1900.0            750.0   \n\n    brand_price_sum  brand_price_std  brand_price_average  \n0       173719698.0      6261.371627              5527.19  \n1       124044603.0      8988.865406              9082.86  \n2         3766241.0     10576.224444             11806.40  \n3        15954226.0      5396.327503              6480.19  \n4       138279069.0      8089.863295              8342.13  \n5        15414322.0      3344.689763              3305.67  \n6        36457518.0      4562.233331              3576.37  \n7         9905909.0      4752.584154              4195.64  \n8        10017173.0      6053.233424              4836.88  \n9        17805271.0      2975.342884              2439.08  \n10      113034210.0      8244.695287              8076.76  \n11       13398006.0      4722.160492              4549.41  \n12        4494303.0      4066.959950              4052.57  \n13       10675790.0      3073.915196              2799.11  \n14       49076652.0      3605.595127              3053.17  \n15       14373814.0      5425.058140              9851.83  \n16        8078352.0      2450.906089              3638.90  \n17        3328679.0      3952.913330              3641.88  \n18        1519049.0      6358.409761              4807.12  \n19        7228288.0      6186.538949              5211.45  \n20        4292737.0      4400.529809              3473.09  \n21        8856481.0      5257.235026              5724.94  \n22        6543426.0      5877.140886              6025.25  \n23         597132.0      7333.695140              3245.28  \n24       20422776.0     19855.495201             32365.73  \n25        7515546.0      3556.249839              3648.32  \n26        7242792.0     10282.987274              8239.81  \n27       10862559.0      4853.289240              5298.81  \n28        3373957.0      4509.036301              5321.70  \n29        2459028.0      3639.737722              6041.84  \n30        3939145.0      3659.577291              4186.13  \n31         560155.0      1829.079211              1755.97  \n32        2360095.0      4394.596002              4006.95  \n33        1839801.0      9637.135323              9107.93  \n34         231776.0       554.118445              1016.56  \n35         297977.0      3325.933365              1646.28  \n36         816001.0      3922.715389              3563.32  \n37        5371844.0     13541.180315             16180.25  \n38         215620.0      2140.083145              3266.97  \n39          39480.0      5520.867233              3948.00  ",
      "text/html": "<div>\n<style scoped>\n    .dataframe tbody tr th:only-of-type {\n        vertical-align: middle;\n    }\n\n    .dataframe tbody tr th {\n        vertical-align: top;\n    }\n\n    .dataframe thead th {\n        text-align: right;\n    }\n</style>\n<table border=\"1\" class=\"dataframe\">\n  <thead>\n    <tr style=\"text-align: right;\">\n      <th></th>\n      <th>brand</th>\n      <th>brand_amount</th>\n      <th>brand_price_max</th>\n      <th>brand_price_median</th>\n      <th>brand_price_min</th>\n      <th>brand_price_sum</th>\n      <th>brand_price_std</th>\n      <th>brand_price_average</th>\n    </tr>\n  </thead>\n  <tbody>\n    <tr>\n      <th>0</th>\n      <td>0</td>\n      <td>31429.0</td>\n      <td>68500.0</td>\n      <td>3199.0</td>\n      <td>13.0</td>\n      <td>173719698.0</td>\n      <td>6261.371627</td>\n      <td>5527.19</td>\n    </tr>\n    <tr>\n      <th>1</th>\n      <td>1</td>\n      <td>13656.0</td>\n      <td>84000.0</td>\n      <td>6399.0</td>\n      <td>15.0</td>\n      <td>124044603.0</td>\n      <td>8988.865406</td>\n      <td>9082.86</td>\n    </tr>\n    <tr>\n      <th>2</th>\n      <td>2</td>\n      <td>318.0</td>\n      <td>55800.0</td>\n      <td>7500.0</td>\n      <td>35.0</td>\n      <td>3766241.0</td>\n      <td>10576.224444</td>\n      <td>11806.40</td>\n    </tr>\n    <tr>\n      <th>3</th>\n      <td>3</td>\n      <td>2461.0</td>\n      <td>37500.0</td>\n      <td>4990.0</td>\n      <td>65.0</td>\n      <td>15954226.0</td>\n      <td>5396.327503</td>\n      <td>6480.19</td>\n    </tr>\n    <tr>\n      <th>4</th>\n      <td>4</td>\n      <td>16575.0</td>\n      <td>99999.0</td>\n      <td>5999.0</td>\n      <td>12.0</td>\n      <td>138279069.0</td>\n      <td>8089.863295</td>\n      <td>8342.13</td>\n    </tr>\n    <tr>\n      <th>5</th>\n      <td>5</td>\n      <td>4662.0</td>\n      <td>31500.0</td>\n      <td>2300.0</td>\n      <td>20.0</td>\n      <td>15414322.0</td>\n      <td>3344.689763</td>\n      <td>3305.67</td>\n    </tr>\n    <tr>\n      <th>6</th>\n      <td>6</td>\n      <td>10193.0</td>\n      <td>35990.0</td>\n      <td>1800.0</td>\n      <td>13.0</td>\n      <td>36457518.0</td>\n      <td>4562.233331</td>\n      <td>3576.37</td>\n    </tr>\n    <tr>\n      <th>7</th>\n      <td>7</td>\n      <td>2360.0</td>\n      <td>38900.0</td>\n      <td>2600.0</td>\n      <td>60.0</td>\n      <td>9905909.0</td>\n      <td>4752.584154</td>\n      <td>4195.64</td>\n    </tr>\n    <tr>\n      <th>8</th>\n      <td>8</td>\n      <td>2070.0</td>\n      <td>99999.0</td>\n      <td>2270.0</td>\n      <td>30.0</td>\n      <td>10017173.0</td>\n      <td>6053.233424</td>\n      <td>4836.88</td>\n    </tr>\n    <tr>\n      <th>9</th>\n      <td>9</td>\n      <td>7299.0</td>\n      <td>68530.0</td>\n      <td>1400.0</td>\n      <td>50.0</td>\n      <td>17805271.0</td>\n      <td>2975.342884</td>\n      <td>2439.08</td>\n    </tr>\n    <tr>\n      <th>10</th>\n      <td>10</td>\n      <td>13994.0</td>\n      <td>92900.0</td>\n      <td>5200.0</td>\n      <td>15.0</td>\n      <td>113034210.0</td>\n      <td>8244.695287</td>\n      <td>8076.76</td>\n    </tr>\n    <tr>\n      <th>11</th>\n      <td>11</td>\n      <td>2944.0</td>\n      <td>34500.0</td>\n      <td>2900.0</td>\n      <td>30.0</td>\n      <td>13398006.0</td>\n      <td>4722.160492</td>\n      <td>4549.41</td>\n    </tr>\n    <tr>\n      <th>12</th>\n      <td>12</td>\n      <td>1108.0</td>\n      <td>27490.0</td>\n      <td>2625.0</td>\n      <td>50.0</td>\n      <td>4494303.0</td>\n      <td>4066.959950</td>\n      <td>4052.57</td>\n    </tr>\n    <tr>\n      <th>13</th>\n      <td>13</td>\n      <td>3813.0</td>\n      <td>35000.0</td>\n      <td>1600.0</td>\n      <td>20.0</td>\n      <td>10675790.0</td>\n      <td>3073.915196</td>\n      <td>2799.11</td>\n    </tr>\n    <tr>\n      <th>14</th>\n      <td>14</td>\n      <td>16073.0</td>\n      <td>38990.0</td>\n      <td>1700.0</td>\n      <td>12.0</td>\n      <td>49076652.0</td>\n      <td>3605.595127</td>\n      <td>3053.17</td>\n    </tr>\n    <tr>\n      <th>15</th>\n      <td>15</td>\n      <td>1458.0</td>\n      <td>45000.0</td>\n      <td>8500.0</td>\n      <td>100.0</td>\n      <td>14373814.0</td>\n      <td>5425.058140</td>\n      <td>9851.83</td>\n    </tr>\n    <tr>\n      <th>16</th>\n      <td>16</td>\n      <td>2219.0</td>\n      <td>17900.0</td>\n      <td>2999.0</td>\n      <td>20.0</td>\n      <td>8078352.0</td>\n      <td>2450.906089</td>\n      <td>3638.90</td>\n    </tr>\n    <tr>\n      <th>17</th>\n      <td>17</td>\n      <td>913.0</td>\n      <td>55800.0</td>\n      <td>2200.0</td>\n      <td>15.0</td>\n      <td>3328679.0</td>\n      <td>3952.913330</td>\n      <td>3641.88</td>\n    </tr>\n    <tr>\n      <th>18</th>\n      <td>18</td>\n      <td>315.0</td>\n      <td>34599.0</td>\n      <td>1999.0</td>\n      <td>50.0</td>\n      <td>1519049.0</td>\n      <td>6358.409761</td>\n      <td>4807.12</td>\n    </tr>\n    <tr>\n      <th>19</th>\n      <td>19</td>\n      <td>1386.0</td>\n      <td>42350.0</td>\n      <td>2800.0</td>\n      <td>20.0</td>\n      <td>7228288.0</td>\n      <td>6186.538949</td>\n      <td>5211.45</td>\n    </tr>\n    <tr>\n      <th>20</th>\n      <td>20</td>\n      <td>1235.0</td>\n      <td>37800.0</td>\n      <td>1750.0</td>\n      <td>15.0</td>\n      <td>4292737.0</td>\n      <td>4400.529809</td>\n      <td>3473.09</td>\n    </tr>\n    <tr>\n      <th>21</th>\n      <td>21</td>\n      <td>1546.0</td>\n      <td>35999.0</td>\n      <td>4225.0</td>\n      <td>50.0</td>\n      <td>8856481.0</td>\n      <td>5257.235026</td>\n      <td>5724.94</td>\n    </tr>\n    <tr>\n      <th>22</th>\n      <td>22</td>\n      <td>1085.0</td>\n      <td>43900.0</td>\n      <td>3950.0</td>\n      <td>50.0</td>\n      <td>6543426.0</td>\n      <td>5877.140886</td>\n      <td>6025.25</td>\n    </tr>\n    <tr>\n      <th>23</th>\n      <td>23</td>\n      <td>183.0</td>\n      <td>64000.0</td>\n      <td>1200.0</td>\n      <td>99.0</td>\n      <td>597132.0</td>\n      <td>7333.695140</td>\n      <td>3245.28</td>\n    </tr>\n    <tr>\n      <th>24</th>\n      <td>24</td>\n      <td>630.0</td>\n      <td>99999.0</td>\n      <td>27450.0</td>\n      <td>15.0</td>\n      <td>20422776.0</td>\n      <td>19855.495201</td>\n      <td>32365.73</td>\n    </tr>\n    <tr>\n      <th>25</th>\n      <td>25</td>\n      <td>2059.0</td>\n      <td>22500.0</td>\n      <td>2500.0</td>\n      <td>25.0</td>\n      <td>7515546.0</td>\n      <td>3556.249839</td>\n      <td>3648.32</td>\n    </tr>\n    <tr>\n      <th>26</th>\n      <td>26</td>\n      <td>878.0</td>\n      <td>99999.0</td>\n      <td>5000.0</td>\n      <td>11.0</td>\n      <td>7242792.0</td>\n      <td>10282.987274</td>\n      <td>8239.81</td>\n    </tr>\n    <tr>\n      <th>27</th>\n      <td>27</td>\n      <td>2049.0</td>\n      <td>62900.0</td>\n      <td>4200.0</td>\n      <td>35.0</td>\n      <td>10862559.0</td>\n      <td>4853.289240</td>\n      <td>5298.81</td>\n    </tr>\n    <tr>\n      <th>28</th>\n      <td>28</td>\n      <td>633.0</td>\n      <td>39900.0</td>\n      <td>3790.0</td>\n      <td>80.0</td>\n      <td>3373957.0</td>\n      <td>4509.036301</td>\n      <td>5321.70</td>\n    </tr>\n    <tr>\n      <th>29</th>\n      <td>29</td>\n      <td>406.0</td>\n      <td>19990.0</td>\n      <td>5250.0</td>\n      <td>500.0</td>\n      <td>2459028.0</td>\n      <td>3639.737722</td>\n      <td>6041.84</td>\n    </tr>\n    <tr>\n      <th>30</th>\n      <td>30</td>\n      <td>940.0</td>\n      <td>23200.0</td>\n      <td>3295.0</td>\n      <td>50.0</td>\n      <td>3939145.0</td>\n      <td>3659.577291</td>\n      <td>4186.13</td>\n    </tr>\n    <tr>\n      <th>31</th>\n      <td>31</td>\n      <td>318.0</td>\n      <td>11000.0</td>\n      <td>1000.0</td>\n      <td>50.0</td>\n      <td>560155.0</td>\n      <td>1829.079211</td>\n      <td>1755.97</td>\n    </tr>\n    <tr>\n      <th>32</th>\n      <td>32</td>\n      <td>588.0</td>\n      <td>33500.0</td>\n      <td>2350.0</td>\n      <td>50.0</td>\n      <td>2360095.0</td>\n      <td>4394.596002</td>\n      <td>4006.95</td>\n    </tr>\n    <tr>\n      <th>33</th>\n      <td>33</td>\n      <td>201.0</td>\n      <td>65000.0</td>\n      <td>5600.0</td>\n      <td>980.0</td>\n      <td>1839801.0</td>\n      <td>9637.135323</td>\n      <td>9107.93</td>\n    </tr>\n    <tr>\n      <th>34</th>\n      <td>34</td>\n      <td>227.0</td>\n      <td>2900.0</td>\n      <td>999.0</td>\n      <td>60.0</td>\n      <td>231776.0</td>\n      <td>554.118445</td>\n      <td>1016.56</td>\n    </tr>\n    <tr>\n      <th>35</th>\n      <td>35</td>\n      <td>180.0</td>\n      <td>28900.0</td>\n      <td>950.0</td>\n      <td>50.0</td>\n      <td>297977.0</td>\n      <td>3325.933365</td>\n      <td>1646.28</td>\n    </tr>\n    <tr>\n      <th>36</th>\n      <td>36</td>\n      <td>228.0</td>\n      <td>20900.0</td>\n      <td>2250.0</td>\n      <td>150.0</td>\n      <td>816001.0</td>\n      <td>3922.715389</td>\n      <td>3563.32</td>\n    </tr>\n    <tr>\n      <th>37</th>\n      <td>37</td>\n      <td>331.0</td>\n      <td>86500.0</td>\n      <td>13250.0</td>\n      <td>550.0</td>\n      <td>5371844.0</td>\n      <td>13541.180315</td>\n      <td>16180.25</td>\n    </tr>\n    <tr>\n      <th>38</th>\n      <td>38</td>\n      <td>65.0</td>\n      <td>8999.0</td>\n      <td>2850.0</td>\n      <td>99.0</td>\n      <td>215620.0</td>\n      <td>2140.083145</td>\n      <td>3266.97</td>\n    </tr>\n    <tr>\n      <th>39</th>\n      <td>39</td>\n      <td>9.0</td>\n      <td>14500.0</td>\n      <td>1900.0</td>\n      <td>750.0</td>\n      <td>39480.0</td>\n      <td>5520.867233</td>\n      <td>3948.00</td>\n    </tr>\n  </tbody>\n</table>\n</div>"
     },
     "execution_count": 35,
     "metadata": {},
     "output_type": "execute_result"
    }
   ],
   "source": [
    "brand_fe"
   ],
   "metadata": {
    "collapsed": false,
    "ExecuteTime": {
     "end_time": "2023-11-24T07:36:22.690029700Z",
     "start_time": "2023-11-24T07:36:22.629029700Z"
    }
   },
   "id": "d587705cb85f280f"
  },
  {
   "cell_type": "code",
   "execution_count": 36,
   "outputs": [
    {
     "data": {
      "text/plain": "(199037, 41)"
     },
     "execution_count": 36,
     "metadata": {},
     "output_type": "execute_result"
    }
   ],
   "source": [
    "data.shape"
   ],
   "metadata": {
    "collapsed": false,
    "ExecuteTime": {
     "end_time": "2023-11-24T07:36:49.640642500Z",
     "start_time": "2023-11-24T07:36:49.591642700Z"
    }
   },
   "id": "3ec6819b821472b8"
  },
  {
   "cell_type": "code",
   "execution_count": 37,
   "outputs": [
    {
     "data": {
      "text/plain": "Index(['SaleID', 'name', 'regDate', 'model', 'brand', 'bodyType', 'fuelType',\n       'gearbox', 'power', 'kilometer', 'notRepairedDamage', 'regionCode',\n       'seller', 'offerType', 'creatDate', 'price', 'v_0', 'v_1', 'v_2', 'v_3',\n       'v_4', 'v_5', 'v_6', 'v_7', 'v_8', 'v_9', 'v_10', 'v_11', 'v_12',\n       'v_13', 'v_14', 'train', 'used_time', 'city', 'brand_amount',\n       'brand_price_max', 'brand_price_median', 'brand_price_min',\n       'brand_price_sum', 'brand_price_std', 'brand_price_average'],\n      dtype='object')"
     },
     "execution_count": 37,
     "metadata": {},
     "output_type": "execute_result"
    }
   ],
   "source": [
    "data.columns"
   ],
   "metadata": {
    "collapsed": false,
    "ExecuteTime": {
     "end_time": "2023-11-24T07:36:54.524955500Z",
     "start_time": "2023-11-24T07:36:54.497912300Z"
    }
   },
   "id": "d8abe6f966abc48a"
  },
  {
   "cell_type": "code",
   "execution_count": 38,
   "outputs": [
    {
     "data": {
      "text/plain": "   power_bin  power\n0        5.0     60\n1        NaN      0\n2       16.0    163\n3       19.0    193\n4        6.0     68",
      "text/html": "<div>\n<style scoped>\n    .dataframe tbody tr th:only-of-type {\n        vertical-align: middle;\n    }\n\n    .dataframe tbody tr th {\n        vertical-align: top;\n    }\n\n    .dataframe thead th {\n        text-align: right;\n    }\n</style>\n<table border=\"1\" class=\"dataframe\">\n  <thead>\n    <tr style=\"text-align: right;\">\n      <th></th>\n      <th>power_bin</th>\n      <th>power</th>\n    </tr>\n  </thead>\n  <tbody>\n    <tr>\n      <th>0</th>\n      <td>5.0</td>\n      <td>60</td>\n    </tr>\n    <tr>\n      <th>1</th>\n      <td>NaN</td>\n      <td>0</td>\n    </tr>\n    <tr>\n      <th>2</th>\n      <td>16.0</td>\n      <td>163</td>\n    </tr>\n    <tr>\n      <th>3</th>\n      <td>19.0</td>\n      <td>193</td>\n    </tr>\n    <tr>\n      <th>4</th>\n      <td>6.0</td>\n      <td>68</td>\n    </tr>\n  </tbody>\n</table>\n</div>"
     },
     "execution_count": 38,
     "metadata": {},
     "output_type": "execute_result"
    }
   ],
   "source": [
    "# 数据分桶 以 power 为例\n",
    "# 这时候我们的缺失值也进桶了，\n",
    "# 为什么要做数据分桶呢，原因有很多\n",
    "# 1. 离散后稀疏向量内积乘法运算速度更快，计算结果也方便存储，容易扩展；\n",
    "# 2. 离散后的特征对异常值更具鲁棒性，如 age>30 为 1 否则为 0，对于年龄为 200 的也不会对模型造成很大的干扰；\n",
    "# 3. LR 属于广义线性模型，表达能力有限，经过离散化后，每个变量有单独的权重，这相当于引入了非线性，能够提升模型的表达能力，加大拟合；\n",
    "# 4. 离散后特征可以进行特征交叉，提升表达能力，由 M+N 个变量编程 M*N 个变量，进一步引入非线形，提升了表达能力；\n",
    "# 5. 特征离散后模型更稳定，如用户年龄区间，不会因为用户年龄长了一岁就变化\n",
    "\n",
    "# 当然还有很多原因，LightGBM 在改进 XGBoost 时就增加了数据分桶，增强了模型的泛化性\n",
    "\n",
    "bin = [i*10 for i in range(31)]\n",
    "data['power_bin'] = pd.cut(data['power'], bin, labels=False)\n",
    "data[['power_bin', 'power']].head()"
   ],
   "metadata": {
    "collapsed": false,
    "ExecuteTime": {
     "end_time": "2023-11-24T07:37:25.829642500Z",
     "start_time": "2023-11-24T07:37:25.765641800Z"
    }
   },
   "id": "6702383b29e3b626"
  },
  {
   "cell_type": "code",
   "execution_count": 50,
   "outputs": [
    {
     "data": {
      "text/plain": "<AxesSubplot:ylabel='Frequency'>"
     },
     "execution_count": 50,
     "metadata": {},
     "output_type": "execute_result"
    },
    {
     "data": {
      "text/plain": "<Figure size 432x288 with 1 Axes>",
      "image/png": "[encoded data removed]"
     },
     "metadata": {
      "needs_background": "light"
     },
     "output_type": "display_data"
    }
   ],
   "source": [
    "data['power_bin'].plot.hist()"
   ],
   "metadata": {
    "collapsed": false,
    "ExecuteTime": {
     "end_time": "2023-11-24T07:41:57.152227100Z",
     "start_time": "2023-11-24T07:41:56.934182200Z"
    }
   },
   "id": "77946622a7273b4b"
  },
  {
   "cell_type": "code",
   "execution_count": 39,
   "outputs": [],
   "source": [
    "data = data.drop(['creatDate', 'regDate', 'regionCode'], axis=1)"
   ],
   "metadata": {
    "collapsed": false,
    "ExecuteTime": {
     "end_time": "2023-11-24T07:38:07.628683Z",
     "start_time": "2023-11-24T07:38:07.578685500Z"
    }
   },
   "id": "13335776109e8454"
  },
  {
   "cell_type": "code",
   "execution_count": 40,
   "outputs": [
    {
     "name": "stdout",
     "output_type": "stream",
     "text": [
      "(199037, 39)\n"
     ]
    },
    {
     "data": {
      "text/plain": "Index(['SaleID', 'name', 'model', 'brand', 'bodyType', 'fuelType', 'gearbox',\n       'power', 'kilometer', 'notRepairedDamage', 'seller', 'offerType',\n       'price', 'v_0', 'v_1', 'v_2', 'v_3', 'v_4', 'v_5', 'v_6', 'v_7', 'v_8',\n       'v_9', 'v_10', 'v_11', 'v_12', 'v_13', 'v_14', 'train', 'used_time',\n       'city', 'brand_amount', 'brand_price_max', 'brand_price_median',\n       'brand_price_min', 'brand_price_sum', 'brand_price_std',\n       'brand_price_average', 'power_bin'],\n      dtype='object')"
     },
     "execution_count": 40,
     "metadata": {},
     "output_type": "execute_result"
    }
   ],
   "source": [
    "print(data.shape)\n",
    "data.columns"
   ],
   "metadata": {
    "collapsed": false,
    "ExecuteTime": {
     "end_time": "2023-11-24T07:38:21.388964200Z",
     "start_time": "2023-11-24T07:38:21.330966600Z"
    }
   },
   "id": "88a53c2d73f0d886"
  },
  {
   "cell_type": "code",
   "execution_count": 41,
   "outputs": [
    {
     "data": {
      "text/plain": "count    178911.000000\nmean         11.616843\nstd           5.116471\nmin           0.000000\n25%           7.000000\n50%          11.000000\n75%          14.000000\nmax          29.000000\nName: power_bin, dtype: float64"
     },
     "execution_count": 41,
     "metadata": {},
     "output_type": "execute_result"
    }
   ],
   "source": [
    "data['power_bin'].describe()"
   ],
   "metadata": {
    "collapsed": false,
    "ExecuteTime": {
     "end_time": "2023-11-24T07:39:03.197801900Z",
     "start_time": "2023-11-24T07:39:03.152804700Z"
    }
   },
   "id": "e3b2e5988e5885f0"
  },
  {
   "cell_type": "code",
   "execution_count": 42,
   "outputs": [],
   "source": [
    "# 目前的数据其实已经可以给树模型使用了，所以我们导出一下\n",
    "data.to_csv('data_for_tree.csv', index=0)"
   ],
   "metadata": {
    "collapsed": false,
    "ExecuteTime": {
     "end_time": "2023-11-24T07:40:21.632401800Z",
     "start_time": "2023-11-24T07:40:15.016553300Z"
    }
   },
   "id": "7893da952ae5a31f"
  },
  {
   "cell_type": "code",
   "execution_count": 46,
   "outputs": [
    {
     "data": {
      "text/plain": "<AxesSubplot:ylabel='Frequency'>"
     },
     "execution_count": 46,
     "metadata": {},
     "output_type": "execute_result"
    },
    {
     "data": {
      "text/plain": "<Figure size 432x288 with 1 Axes>",
      "image/png": "[encoded data removed]"
     },
     "metadata": {
      "needs_background": "light"
     },
     "output_type": "display_data"
    }
   ],
   "source": [
    "# 我们可以再构造一份特征给 LR NN 之类的模型用\n",
    "# 之所以分开构造是因为，不同模型对数据集的要求不同\n",
    "# 我们看下数据分布：\n",
    "data['power'].plot.hist()\n",
    "data['power_bin'].plot.hist()"
   ],
   "metadata": {
    "collapsed": false,
    "ExecuteTime": {
     "end_time": "2023-11-24T07:40:42.093784200Z",
     "start_time": "2023-11-24T07:40:41.873697400Z"
    }
   },
   "id": "a11e791567470dc9"
  },
  {
   "cell_type": "code",
   "execution_count": 47,
   "outputs": [
    {
     "data": {
      "text/plain": "<AxesSubplot:ylabel='Frequency'>"
     },
     "execution_count": 47,
     "metadata": {},
     "output_type": "execute_result"
    },
    {
     "data": {
      "text/plain": "<Figure size 432x288 with 1 Axes>",
      "image/png": "[encoded data removed]"
     },
     "metadata": {
      "needs_background": "light"
     },
     "output_type": "display_data"
    }
   ],
   "source": [
    "# 我们刚刚已经对 train 进行异常值处理了，但是现在还有这么奇怪的分布是因为 test 中的 power 异常值，\n",
    "# 所以我们其实刚刚 train 中的 power 异常值不删为好，可以用长尾分布截断来代替\n",
    "train['power'].plot.hist()"
   ],
   "metadata": {
    "collapsed": false,
    "ExecuteTime": {
     "end_time": "2023-11-24T07:40:55.448311Z",
     "start_time": "2023-11-24T07:40:55.261312800Z"
    }
   },
   "id": "1c967c2d71df4a62"
  },
  {
   "cell_type": "code",
   "execution_count": 48,
   "outputs": [
    {
     "data": {
      "text/plain": "<AxesSubplot:ylabel='Frequency'>"
     },
     "execution_count": 48,
     "metadata": {},
     "output_type": "execute_result"
    },
    {
     "data": {
      "text/plain": "<Figure size 432x288 with 1 Axes>",
      "image/png": "[encoded data removed]"
     },
     "metadata": {
      "needs_background": "light"
     },
     "output_type": "display_data"
    }
   ],
   "source": [
    "# 我们对其取 log，在做归一化\n",
    "from sklearn import preprocessing\n",
    "min_max_scaler = preprocessing.MinMaxScaler()\n",
    "data['power'] = np.log(data['power'] + 1) \n",
    "data['power'] = ((data['power'] - np.min(data['power'])) / (np.max(data['power']) - np.min(data['power'])))\n",
    "data['power'].plot.hist()"
   ],
   "metadata": {
    "collapsed": false,
    "ExecuteTime": {
     "end_time": "2023-11-24T07:41:04.292989800Z",
     "start_time": "2023-11-24T07:41:03.825770200Z"
    }
   },
   "id": "53a8115f8f7ff115"
  },
  {
   "cell_type": "code",
   "execution_count": 49,
   "outputs": [
    {
     "data": {
      "text/plain": "<AxesSubplot:ylabel='Frequency'>"
     },
     "execution_count": 49,
     "metadata": {},
     "output_type": "execute_result"
    },
    {
     "data": {
      "text/plain": "<Figure size 432x288 with 1 Axes>",
      "image/png": "[encoded data removed]"
     },
     "metadata": {
      "needs_background": "light"
     },
     "output_type": "display_data"
    }
   ],
   "source": [
    "# km 的比较正常，应该是已经做过分桶了\n",
    "data['kilometer'].plot.hist()"
   ],
   "metadata": {
    "collapsed": false,
    "ExecuteTime": {
     "end_time": "2023-11-24T07:41:24.351921900Z",
     "start_time": "2023-11-24T07:41:24.167994800Z"
    }
   },
   "id": "ef00f0379174e71e"
  },
  {
   "cell_type": "code",
   "execution_count": 51,
   "outputs": [
    {
     "data": {
      "text/plain": "<AxesSubplot:ylabel='Frequency'>"
     },
     "execution_count": 51,
     "metadata": {},
     "output_type": "execute_result"
    },
    {
     "data": {
      "text/plain": "<Figure size 432x288 with 1 Axes>",
      "image/png": "[encoded data removed]"
     },
     "metadata": {
      "needs_background": "light"
     },
     "output_type": "display_data"
    }
   ],
   "source": [
    "# 所以我们可以直接做归一化\n",
    "data['kilometer'] = ((data['kilometer'] - np.min(data['kilometer'])) / \n",
    "                        (np.max(data['kilometer']) - np.min(data['kilometer'])))\n",
    "data['kilometer'].plot.hist()"
   ],
   "metadata": {
    "collapsed": false,
    "ExecuteTime": {
     "end_time": "2023-11-24T07:42:34.173730500Z",
     "start_time": "2023-11-24T07:42:33.983734100Z"
    }
   },
   "id": "5413c7d6e985c338"
  },
  {
   "cell_type": "code",
   "execution_count": 52,
   "outputs": [],
   "source": [
    "# 除此之外 还有我们刚刚构造的统计量特征：\n",
    "# 'brand_amount', 'brand_price_average', 'brand_price_max',\n",
    "# 'brand_price_median', 'brand_price_min', 'brand_price_std',\n",
    "# 'brand_price_sum'\n",
    "# 这里不再一一举例分析了，直接做变换，\n",
    "def max_min(x):\n",
    "    return (x - np.min(x)) / (np.max(x) - np.min(x))\n",
    "\n",
    "data['brand_amount'] = ((data['brand_amount'] - np.min(data['brand_amount'])) / \n",
    "                        (np.max(data['brand_amount']) - np.min(data['brand_amount'])))\n",
    "data['brand_price_average'] = ((data['brand_price_average'] - np.min(data['brand_price_average'])) / \n",
    "                               (np.max(data['brand_price_average']) - np.min(data['brand_price_average'])))\n",
    "data['brand_price_max'] = ((data['brand_price_max'] - np.min(data['brand_price_max'])) / \n",
    "                           (np.max(data['brand_price_max']) - np.min(data['brand_price_max'])))\n",
    "data['brand_price_median'] = ((data['brand_price_median'] - np.min(data['brand_price_median'])) /\n",
    "                              (np.max(data['brand_price_median']) - np.min(data['brand_price_median'])))\n",
    "data['brand_price_min'] = ((data['brand_price_min'] - np.min(data['brand_price_min'])) / \n",
    "                           (np.max(data['brand_price_min']) - np.min(data['brand_price_min'])))\n",
    "data['brand_price_std'] = ((data['brand_price_std'] - np.min(data['brand_price_std'])) / \n",
    "                           (np.max(data['brand_price_std']) - np.min(data['brand_price_std'])))\n",
    "data['brand_price_sum'] = ((data['brand_price_sum'] - np.min(data['brand_price_sum'])) / \n",
    "                           (np.max(data['brand_price_sum']) - np.min(data['brand_price_sum'])))"
   ],
   "metadata": {
    "collapsed": false,
    "ExecuteTime": {
     "end_time": "2023-11-24T07:42:47.984692900Z",
     "start_time": "2023-11-24T07:42:47.701451400Z"
    }
   },
   "id": "815574761c4ab63"
  },
  {
   "cell_type": "code",
   "execution_count": 53,
   "outputs": [],
   "source": [
    "# 对类别特征进行 OneEncoder\n",
    "data = pd.get_dummies(data, columns=['model', 'brand', 'bodyType', 'fuelType',\n",
    "                                     'gearbox', 'notRepairedDamage', 'power_bin'])"
   ],
   "metadata": {
    "collapsed": false,
    "ExecuteTime": {
     "end_time": "2023-11-24T07:42:54.477916200Z",
     "start_time": "2023-11-24T07:42:54.039777900Z"
    }
   },
   "id": "8f7127be5cbc97ba"
  },
  {
   "cell_type": "code",
   "execution_count": 54,
   "outputs": [
    {
     "name": "stdout",
     "output_type": "stream",
     "text": [
      "(199037, 370)\n"
     ]
    },
    {
     "data": {
      "text/plain": "Index(['SaleID', 'name', 'power', 'kilometer', 'seller', 'offerType', 'price',\n       'v_0', 'v_1', 'v_2',\n       ...\n       'power_bin_20.0', 'power_bin_21.0', 'power_bin_22.0', 'power_bin_23.0',\n       'power_bin_24.0', 'power_bin_25.0', 'power_bin_26.0', 'power_bin_27.0',\n       'power_bin_28.0', 'power_bin_29.0'],\n      dtype='object', length=370)"
     },
     "execution_count": 54,
     "metadata": {},
     "output_type": "execute_result"
    }
   ],
   "source": [
    "print(data.shape)\n",
    "data.columns"
   ],
   "metadata": {
    "collapsed": false,
    "ExecuteTime": {
     "end_time": "2023-11-24T07:43:02.623373800Z",
     "start_time": "2023-11-24T07:43:02.536364900Z"
    }
   },
   "id": "d94465d41a59530"
  },
  {
   "cell_type": "code",
   "execution_count": 55,
   "outputs": [],
   "source": [
    "# 这份数据可以给 LR 用\n",
    "data.to_csv('data_for_lr.csv', index=0)"
   ],
   "metadata": {
    "collapsed": false,
    "ExecuteTime": {
     "end_time": "2023-11-24T07:43:26.975881600Z",
     "start_time": "2023-11-24T07:43:07.396254700Z"
    }
   },
   "id": "5f7575e133971e8d"
  },
  {
   "cell_type": "code",
   "execution_count": 58,
   "outputs": [
    {
     "data": {
      "text/plain": "<AxesSubplot:title={'center':'Correlation of Numeric Features with Price'}>"
     },
     "execution_count": 58,
     "metadata": {},
     "output_type": "execute_result"
    },
    {
     "data": {
      "text/plain": "<Figure size 504x504 with 2 Axes>",
      "image/png": "[encoded data removed]"
     },
     "metadata": {
      "needs_background": "light"
     },
     "output_type": "display_data"
    }
   ],
   "source": [
    "# 可视化相关性分析\n",
    "data_numeric = data[['power', 'kilometer', 'brand_amount', 'brand_price_average', \n",
    "                     'brand_price_max', 'brand_price_median']]\n",
    "correlation = data_numeric.corr()\n",
    "\n",
    "f , ax = plt.subplots(figsize = (7, 7))\n",
    "plt.title('Correlation of Numeric Features with Price',y=1,size=16)\n",
    "sns.heatmap(correlation,square = True,  vmax=0.8)"
   ],
   "metadata": {
    "collapsed": false,
    "ExecuteTime": {
     "end_time": "2023-11-24T07:44:12.214845600Z",
     "start_time": "2023-11-24T07:44:12.008641800Z"
    }
   },
   "id": "a129bf080fbf8e8c"
  }
 ],
 "metadata": {
  "kernelspec": {
   "display_name": "Python 3",
   "language": "python",
   "name": "python3"
  },
  "language_info": {
   "codemirror_mode": {
    "name": "ipython",
    "version": 2
   },
   "file_extension": ".py",
   "mimetype": "text/x-python",
   "name": "python",
   "nbconvert_exporter": "python",
   "pygments_lexer": "ipython2",
   "version": "2.7.6"
  }
 },
 "nbformat": 4,
 "nbformat_minor": 5
}
